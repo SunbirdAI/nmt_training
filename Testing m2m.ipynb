{
 "cells": [
  {
   "cell_type": "code",
   "execution_count": 4,
   "id": "64788b12",
   "metadata": {},
   "outputs": [
    {
     "ename": "ModuleNotFoundError",
     "evalue": "No module named 'nmt_clean.configm2m'",
     "output_type": "error",
     "traceback": [
      "\u001b[0;31m---------------------------------------------------------------------------\u001b[0m",
      "\u001b[0;31mModuleNotFoundError\u001b[0m                       Traceback (most recent call last)",
      "Cell \u001b[0;32mIn[4], line 1\u001b[0m\n\u001b[0;32m----> 1\u001b[0m \u001b[38;5;28;01mfrom\u001b[39;00m \u001b[38;5;21;01mnmt_clean\u001b[39;00m\u001b[38;5;21;01m.\u001b[39;00m\u001b[38;5;21;01mconfigm2m\u001b[39;00m \u001b[38;5;28;01mimport\u001b[39;00m config\n\u001b[1;32m      2\u001b[0m \u001b[38;5;28;01mfrom\u001b[39;00m \u001b[38;5;21;01mnmt_clean\u001b[39;00m\u001b[38;5;21;01m.\u001b[39;00m\u001b[38;5;21;01mread_files\u001b[39;00m \u001b[38;5;28;01mimport\u001b[39;00m dataset_from_folders_m2m\n\u001b[1;32m      3\u001b[0m \u001b[38;5;28;01mfrom\u001b[39;00m \u001b[38;5;21;01mnmt_clean\u001b[39;00m\u001b[38;5;21;01m.\u001b[39;00m\u001b[38;5;21;01mpreprocess\u001b[39;00m \u001b[38;5;28;01mimport\u001b[39;00m Many2ManyProcessor\n",
      "\u001b[0;31mModuleNotFoundError\u001b[0m: No module named 'nmt_clean.configm2m'"
     ]
    }
   ],
   "source": [
    "from nmt_clean.configm2m import config_\n",
    "from nmt_clean.read_files import dataset_from_folders_m2m\n",
    "from nmt_clean.preprocess import Many2ManyProcessor\n",
    "\n",
    "from transformers import AutoTokenizer"
   ]
  },
  {
   "cell_type": "code",
   "execution_count": 3,
   "id": "d38189f0",
   "metadata": {},
   "outputs": [
    {
     "ename": "NameError",
     "evalue": "name 'Many2ManyProcessor' is not defined",
     "output_type": "error",
     "traceback": [
      "\u001b[0;31m---------------------------------------------------------------------------\u001b[0m",
      "\u001b[0;31mNameError\u001b[0m                                 Traceback (most recent call last)",
      "Cell \u001b[0;32mIn[3], line 1\u001b[0m\n\u001b[0;32m----> 1\u001b[0m preprocess \u001b[38;5;241m=\u001b[39m \u001b[43mMany2ManyProcessor\u001b[49m()\n\u001b[1;32m      3\u001b[0m paired_datasets \u001b[38;5;241m=\u001b[39m preprocess\u001b[38;5;241m.\u001b[39mdataset_from_folders_m2m(config[\u001b[38;5;124m\"\u001b[39m\u001b[38;5;124mtraining_subset_paths\u001b[39m\u001b[38;5;124m\"\u001b[39m])\n\u001b[1;32m      4\u001b[0m tokenizer \u001b[38;5;241m=\u001b[39m AutoTokenizer\u001b[38;5;241m.\u001b[39mfrom_pretrained(\u001b[38;5;124m\"\u001b[39m\u001b[38;5;124m/home/ali/Documents/repos/nmt_checkpoints/mul_en_kaggle_hf_1-2/output-mul-en/checkpoint-400\u001b[39m\u001b[38;5;124m\"\u001b[39m)\n",
      "\u001b[0;31mNameError\u001b[0m: name 'Many2ManyProcessor' is not defined"
     ]
    }
   ],
   "source": [
    "preprocess = Many2ManyProcessor()\n",
    "\n",
    "paired_datasets = preprocess.dataset_from_folders_m2m(config[\"training_subset_paths\"])\n",
    "tokenizer = AutoTokenizer.from_pretrained(\"/home/ali/Documents/repos/nmt_checkpoints/mul_en_kaggle_hf_1-2/output-mul-en/checkpoint-400\")\n",
    "tokens = preprocess.iterative_preprocess(paired_datasets,tokenizer )"
   ]
  },
  {
   "cell_type": "code",
   "execution_count": 2,
   "id": "563d7e76",
   "metadata": {},
   "outputs": [
    {
     "ename": "NameError",
     "evalue": "name 'tokens' is not defined",
     "output_type": "error",
     "traceback": [
      "\u001b[0;31m---------------------------------------------------------------------------\u001b[0m",
      "\u001b[0;31mNameError\u001b[0m                                 Traceback (most recent call last)",
      "Cell \u001b[0;32mIn[2], line 2\u001b[0m\n\u001b[1;32m      1\u001b[0m total_count \u001b[38;5;241m=\u001b[39m \u001b[38;5;241m0\u001b[39m\n\u001b[0;32m----> 2\u001b[0m \u001b[38;5;28;01mfor\u001b[39;00m i \u001b[38;5;129;01min\u001b[39;00m \u001b[38;5;28mrange\u001b[39m(\u001b[38;5;28mlen\u001b[39m(\u001b[43mtokens\u001b[49m)):\n\u001b[1;32m      3\u001b[0m     total_count \u001b[38;5;241m+\u001b[39m\u001b[38;5;241m=\u001b[39m \u001b[38;5;28mlen\u001b[39m(test[i])\n\u001b[1;32m      4\u001b[0m     \u001b[38;5;66;03m#print(f\"Src:{test[i].src_language} Tgt:{test[i].tgt_language} Count:{len(test[i])}\")\u001b[39;00m\n",
      "\u001b[0;31mNameError\u001b[0m: name 'tokens' is not defined"
     ]
    }
   ],
   "source": [
    "total_count = 0\n",
    "for i in range(len(tokens)):\n",
    "    total_count += len(test[i])\n",
    "    #print(f\"Src:{test[i].src_language} Tgt:{test[i].tgt_language} Count:{len(test[i])}\")\n",
    "    \n",
    "print(total_count)"
   ]
  },
  {
   "cell_type": "code",
   "execution_count": 13,
   "id": "49a05778",
   "metadata": {},
   "outputs": [
    {
     "data": {
      "text/plain": [
       "['val_teo.src',\n",
       " 'test_ach.src',\n",
       " 'train_mt560_luo.src',\n",
       " 'val_nyn.src',\n",
       " 'val_teo.tgt',\n",
       " 'train_mt560_ach.tgt',\n",
       " 'val_lug.src',\n",
       " 'val_nyn.tgt',\n",
       " 'test_lgg.tgt',\n",
       " 'test_nyn.tgt',\n",
       " 'train_flores_lug.tgt',\n",
       " 'train_ai4d.tgt',\n",
       " 'val_lgg.src',\n",
       " 'test_lug.tgt',\n",
       " 'train.src',\n",
       " 'train_mt560_ach.src',\n",
       " 'val_ach.tgt',\n",
       " 'bukedde_ggl_bt_lug.tgt',\n",
       " 'test_teo.src',\n",
       " 'test_teo.tgt',\n",
       " 'train.tgt',\n",
       " 'train_ai4d.src',\n",
       " 'train_flores_luo.src',\n",
       " 'val_lgg.tgt',\n",
       " 'test_nyn.src',\n",
       " 'train_mt560_nyn.tgt',\n",
       " 'val_lug.tgt',\n",
       " 'train_mt560_luo.tgt',\n",
       " 'test_ach.tgt',\n",
       " 'test_lgg.src',\n",
       " 'train_mt560_lug.src',\n",
       " 'train_flores_lug.src',\n",
       " 'val_ach.src',\n",
       " 'test_lug.src',\n",
       " 'train_flores_luo.tgt',\n",
       " 'train_mt560_nyn.src',\n",
       " 'train_mt560_lug.tgt',\n",
       " 'bukedde_ggl_bt_lug.src']"
      ]
     },
     "execution_count": 13,
     "metadata": {},
     "output_type": "execute_result"
    }
   ],
   "source": []
  },
  {
   "cell_type": "code",
   "execution_count": null,
   "id": "30ad065d",
   "metadata": {},
   "outputs": [],
   "source": []
  }
 ],
 "metadata": {
  "kernelspec": {
   "display_name": "Python 3 (ipykernel)",
   "language": "python",
   "name": "python3"
  },
  "language_info": {
   "codemirror_mode": {
    "name": "ipython",
    "version": 3
   },
   "file_extension": ".py",
   "mimetype": "text/x-python",
   "name": "python",
   "nbconvert_exporter": "python",
   "pygments_lexer": "ipython3",
   "version": "3.10.6"
  }
 },
 "nbformat": 4,
 "nbformat_minor": 5
}
