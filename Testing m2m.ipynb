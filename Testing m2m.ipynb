{
 "cells": [
  {
   "cell_type": "code",
   "execution_count": 1,
   "id": "64788b12",
   "metadata": {},
   "outputs": [
    {
     "name": "stdout",
     "output_type": "stream",
     "text": [
      "Evaluating every 20 training steps.\n"
     ]
    }
   ],
   "source": [
    "from nmt_clean.configm2m import config\n",
    "from nmt_clean.read_files import dataset_from_folders_m2m\n",
    "from nmt_clean.preprocess import Many2ManyProcessor\n",
    "\n",
    "from transformers import AutoTokenizer"
   ]
  },
  {
   "cell_type": "code",
   "execution_count": 2,
   "id": "d38189f0",
   "metadata": {},
   "outputs": [
    {
     "name": "stderr",
     "output_type": "stream",
     "text": [
      "100%|████████████████████████████████████████████████████████████████████████████████████████████████████████████████████████████████████████████████████████████████████████| 6/6 [00:03<00:00,  1.95it/s]\n",
      "  0%|                                                                                                                                                                               | 0/40 [00:00<?, ?it/s]/home/ali/.pyenv/versions/optimum/lib/python3.10/site-packages/transformers/tokenization_utils_base.py:3581: UserWarning: `as_target_tokenizer` is deprecated and will be removed in v5 of Transformers. You can tokenize your labels by using the argument `text_target` of the regular `__call__` method (either in the same call as your input texts if you use the same keyword arguments, or in a separate call.\n",
      "  warnings.warn(\n",
      "100%|██████████████████████████████████████████████████████████████████████████████████████████████████████████████████████████████████████████████████████████████████████| 40/40 [07:49<00:00, 11.74s/it]\n"
     ]
    }
   ],
   "source": [
    "preprocess = Many2ManyProcessor()\n",
    "\n",
    "paired_datasets = preprocess.dataset_from_folders_m2m(config[\"training_subset_paths\"])\n",
    "tokenizer = AutoTokenizer.from_pretrained(\"/home/ali/Documents/repos/nmt_checkpoints/mul_en_kaggle_hf_1-2/output-mul-en/checkpoint-400\")\n",
    "tokens = preprocess.iterative_preprocess(paired_datasets,tokenizer )"
   ]
  },
  {
   "cell_type": "code",
   "execution_count": 3,
   "id": "563d7e76",
   "metadata": {},
   "outputs": [
    {
     "name": "stdout",
     "output_type": "stream",
     "text": [
      "1265934\n"
     ]
    }
   ],
   "source": [
    "total_count = 0\n",
    "for i in range(len(test)):\n",
    "    total_count += len(test[i])\n",
    "    #print(f\"Src:{test[i].src_language} Tgt:{test[i].tgt_language} Count:{len(test[i])}\")\n",
    "    \n",
    "print(total_count)"
   ]
  },
  {
   "cell_type": "code",
   "execution_count": 13,
   "id": "49a05778",
   "metadata": {},
   "outputs": [
    {
     "data": {
      "text/plain": [
       "['val_teo.src',\n",
       " 'test_ach.src',\n",
       " 'train_mt560_luo.src',\n",
       " 'val_nyn.src',\n",
       " 'val_teo.tgt',\n",
       " 'train_mt560_ach.tgt',\n",
       " 'val_lug.src',\n",
       " 'val_nyn.tgt',\n",
       " 'test_lgg.tgt',\n",
       " 'test_nyn.tgt',\n",
       " 'train_flores_lug.tgt',\n",
       " 'train_ai4d.tgt',\n",
       " 'val_lgg.src',\n",
       " 'test_lug.tgt',\n",
       " 'train.src',\n",
       " 'train_mt560_ach.src',\n",
       " 'val_ach.tgt',\n",
       " 'bukedde_ggl_bt_lug.tgt',\n",
       " 'test_teo.src',\n",
       " 'test_teo.tgt',\n",
       " 'train.tgt',\n",
       " 'train_ai4d.src',\n",
       " 'train_flores_luo.src',\n",
       " 'val_lgg.tgt',\n",
       " 'test_nyn.src',\n",
       " 'train_mt560_nyn.tgt',\n",
       " 'val_lug.tgt',\n",
       " 'train_mt560_luo.tgt',\n",
       " 'test_ach.tgt',\n",
       " 'test_lgg.src',\n",
       " 'train_mt560_lug.src',\n",
       " 'train_flores_lug.src',\n",
       " 'val_ach.src',\n",
       " 'test_lug.src',\n",
       " 'train_flores_luo.tgt',\n",
       " 'train_mt560_nyn.src',\n",
       " 'train_mt560_lug.tgt',\n",
       " 'bukedde_ggl_bt_lug.src']"
      ]
     },
     "execution_count": 13,
     "metadata": {},
     "output_type": "execute_result"
    }
   ],
   "source": []
  },
  {
   "cell_type": "code",
   "execution_count": null,
   "id": "30ad065d",
   "metadata": {},
   "outputs": [],
   "source": []
  }
 ],
 "metadata": {
  "kernelspec": {
   "display_name": "Python 3 (ipykernel)",
   "language": "python",
   "name": "python3"
  },
  "language_info": {
   "codemirror_mode": {
    "name": "ipython",
    "version": 3
   },
   "file_extension": ".py",
   "mimetype": "text/x-python",
   "name": "python",
   "nbconvert_exporter": "python",
   "pygments_lexer": "ipython3",
   "version": "3.10.6"
  }
 },
 "nbformat": 4,
 "nbformat_minor": 5
}
