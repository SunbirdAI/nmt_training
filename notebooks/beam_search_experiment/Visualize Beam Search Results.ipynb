{
 "cells": [
  {
   "cell_type": "code",
   "execution_count": 3,
   "id": "10ecef85",
   "metadata": {},
   "outputs": [],
   "source": [
    "import joblib\n",
    "import matplotlib.pyplot as plt\n",
    "import seaborn as sns"
   ]
  },
  {
   "cell_type": "code",
   "execution_count": 4,
   "id": "2374b2f2",
   "metadata": {},
   "outputs": [],
   "source": [
    "results_100_test = joblib.load(\"results_beam_differences_100\")\n",
    "results_100_val = joblib.load(\"results_val_beam_differences_100\")"
   ]
  },
  {
   "cell_type": "code",
   "execution_count": 34,
   "id": "05ad6574",
   "metadata": {},
   "outputs": [],
   "source": [
    "bleu_test_means = []\n",
    "bleu_val_means = []\n",
    "eval_langs = [\"ach\", \"lgg\", \"lug\", \"nyn\", \"teo\" ]\n",
    "lang_bleus_val = {\n",
    "    \"ach\":[],\n",
    "    \"lgg\":[],\n",
    "    \"lug\":[],\n",
    "    \"nyn\":[],\n",
    "    \"teo\":[]\n",
    "}\n",
    "lang_bleus_test = {\n",
    "    \"ach\":[],\n",
    "    \"lgg\":[],\n",
    "    \"lug\":[],\n",
    "    \"nyn\":[],\n",
    "    \"teo\":[]\n",
    "}\n",
    "\n",
    "for result_idx in range(0, 39):\n",
    "    if result_idx < 5:\n",
    "        continue\n",
    "    bleu_test_means.append(results_100_test[result_idx][\"BLEU_mean\"])\n",
    "    bleu_val_means.append(results_100_val[result_idx][\"BLEU_mean\"])\n",
    "    for lang in eval_langs:\n",
    "        lang_bleus_test[lang].append(results_100_test[result_idx][lang][\"score\"])\n",
    "        lang_bleus_val[lang].append(results_100_val[result_idx][lang][\"score\"])"
   ]
  },
  {
   "cell_type": "code",
   "execution_count": 35,
   "id": "306fa81b",
   "metadata": {},
   "outputs": [
    {
     "data": {
      "text/plain": [
       "{'ach': [21.24628272967823,\n",
       "  21.20384432224884,\n",
       "  20.963894358494773,\n",
       "  21.10227137762786,\n",
       "  21.303839052966154,\n",
       "  21.31320955844399,\n",
       "  21.21334290502769,\n",
       "  21.287537229629375,\n",
       "  21.423150170753086,\n",
       "  21.423150170753086,\n",
       "  21.400427309658916,\n",
       "  21.348922936204808,\n",
       "  21.348922936204808,\n",
       "  21.348922936204808,\n",
       "  21.256816520319045,\n",
       "  21.256816520319045,\n",
       "  21.279533669941454,\n",
       "  21.279533669941454,\n",
       "  21.2435375778502,\n",
       "  21.19191640368479,\n",
       "  21.205098609883468,\n",
       "  21.205098609883468,\n",
       "  21.205098609883468,\n",
       "  20.915419845090295,\n",
       "  20.915419845090295,\n",
       "  20.915419845090295,\n",
       "  20.915419845090295,\n",
       "  20.915419845090295,\n",
       "  20.915419845090295,\n",
       "  20.915419845090295,\n",
       "  20.915419845090295,\n",
       "  20.915419845090295,\n",
       "  20.915419845090295,\n",
       "  20.915419845090295],\n",
       " 'lgg': [21.366174205953893,\n",
       "  21.326053741272148,\n",
       "  21.39927621048516,\n",
       "  21.70885838625252,\n",
       "  21.225609078492013,\n",
       "  21.364624217780044,\n",
       "  21.330628563035276,\n",
       "  21.064661807894993,\n",
       "  21.148838933811156,\n",
       "  21.12633440641381,\n",
       "  21.12633440641381,\n",
       "  21.096509086042794,\n",
       "  21.096509086042794,\n",
       "  21.096509086042794,\n",
       "  21.105937695809164,\n",
       "  21.105937695809164,\n",
       "  21.105937695809164,\n",
       "  20.985835762396167,\n",
       "  20.985835762396167,\n",
       "  20.985835762396167,\n",
       "  20.985835762396167,\n",
       "  20.985835762396167,\n",
       "  20.985835762396167,\n",
       "  20.985835762396167,\n",
       "  20.985835762396167,\n",
       "  20.985835762396167,\n",
       "  20.985835762396167,\n",
       "  20.985835762396167,\n",
       "  20.985835762396167,\n",
       "  21.290413287890864,\n",
       "  21.290413287890864,\n",
       "  21.290413287890864,\n",
       "  21.290413287890864,\n",
       "  21.290413287890864],\n",
       " 'lug': [34.206064545186756,\n",
       "  35.06268161207373,\n",
       "  35.02594343956881,\n",
       "  34.952808619459525,\n",
       "  35.041823936850676,\n",
       "  35.041823936850676,\n",
       "  35.041823936850676,\n",
       "  35.041823936850676,\n",
       "  35.041823936850676,\n",
       "  34.80824459765426,\n",
       "  34.80824459765426,\n",
       "  34.80824459765426,\n",
       "  34.80824459765426,\n",
       "  34.80824459765426,\n",
       "  34.80824459765426,\n",
       "  34.80824459765426,\n",
       "  34.80824459765426,\n",
       "  34.97474777796125,\n",
       "  34.97474777796125,\n",
       "  34.97474777796125,\n",
       "  34.97474777796125,\n",
       "  34.97474777796125,\n",
       "  34.97474777796125,\n",
       "  34.936791077937926,\n",
       "  34.936791077937926,\n",
       "  34.936791077937926,\n",
       "  34.936791077937926,\n",
       "  34.936791077937926,\n",
       "  34.936791077937926,\n",
       "  34.936791077937926,\n",
       "  34.936791077937926,\n",
       "  34.936791077937926,\n",
       "  34.936791077937926,\n",
       "  34.936791077937926],\n",
       " 'nyn': [25.455154407317906,\n",
       "  26.075118520062524,\n",
       "  25.920544241731534,\n",
       "  25.700249003523343,\n",
       "  25.91070762584652,\n",
       "  26.732160596530978,\n",
       "  26.96469155445159,\n",
       "  26.93530033618094,\n",
       "  27.533144459706005,\n",
       "  27.53583278249889,\n",
       "  27.53583278249889,\n",
       "  27.53583278249889,\n",
       "  27.705190207024202,\n",
       "  27.77836814933599,\n",
       "  27.747474727859554,\n",
       "  27.77836814933599,\n",
       "  27.77836814933599,\n",
       "  27.842799383921744,\n",
       "  27.842799383921744,\n",
       "  27.842799383921744,\n",
       "  27.842799383921744,\n",
       "  27.842799383921744,\n",
       "  27.842799383921744,\n",
       "  27.842799383921744,\n",
       "  27.842799383921744,\n",
       "  27.842799383921744,\n",
       "  27.842799383921744,\n",
       "  27.842799383921744,\n",
       "  27.842799383921744,\n",
       "  27.842799383921744,\n",
       "  27.842799383921744,\n",
       "  27.842799383921744,\n",
       "  27.873869194361145,\n",
       "  27.873869194361145],\n",
       " 'teo': [28.60221322201147,\n",
       "  28.462131255695606,\n",
       "  28.06157201934654,\n",
       "  28.56658018232046,\n",
       "  28.56658018232046,\n",
       "  28.595464069715582,\n",
       "  28.595464069715582,\n",
       "  28.595464069715582,\n",
       "  28.603817920620738,\n",
       "  28.70094631203467,\n",
       "  28.8082438532954,\n",
       "  28.8082438532954,\n",
       "  28.8082438532954,\n",
       "  28.8082438532954,\n",
       "  28.8082438532954,\n",
       "  28.78328223171665,\n",
       "  28.78328223171665,\n",
       "  28.78328223171665,\n",
       "  28.78328223171665,\n",
       "  28.78328223171665,\n",
       "  28.78328223171665,\n",
       "  28.78328223171665,\n",
       "  28.78328223171665,\n",
       "  28.78328223171665,\n",
       "  28.779031417771144,\n",
       "  28.779031417771144,\n",
       "  28.779031417771144,\n",
       "  28.779031417771144,\n",
       "  28.779031417771144,\n",
       "  28.779031417771144,\n",
       "  28.779031417771144,\n",
       "  28.779031417771144,\n",
       "  28.779031417771144,\n",
       "  28.77476242773472]}"
      ]
     },
     "execution_count": 35,
     "metadata": {},
     "output_type": "execute_result"
    }
   ],
   "source": [
    "lang_bleus_val"
   ]
  },
  {
   "cell_type": "code",
   "execution_count": 54,
   "id": "e707d282",
   "metadata": {},
   "outputs": [
    {
     "data": {
      "text/plain": [
       "<matplotlib.collections.PathCollection at 0x7faf5871beb0>"
      ]
     },
     "execution_count": 54,
     "metadata": {},
     "output_type": "execute_result"
    },
    {
     "data": {
      "image/png": "[encoded data removed]",
      "text/plain": [
       "<Figure size 640x480 with 1 Axes>"
      ]
     },
     "metadata": {},
     "output_type": "display_data"
    }
   ],
   "source": [
    "plt.title = \"mean sBLEU over Number of Beams\"\n",
    "plt.ylabel = \"mean sBLEU\"\n",
    "plt.xlabel = \"num of beams\"\n",
    "\n",
    "plt.scatter([i for i in range(5,len(bleu_test_means)+5)], lang_bleus_val[\"lgg\"])\n",
    "#plt.scatter([i for i in range(5,len(bleu_val_means)+5)], bleu_val_means)\n",
    "#plt.hist(bleu_val_means )\n",
    "#plt.hist(bleu_test_means )\n"
   ]
  },
  {
   "cell_type": "code",
   "execution_count": 26,
   "id": "ea1ef955",
   "metadata": {},
   "outputs": [
    {
     "ename": "SyntaxError",
     "evalue": "expected ':' (3818666285.py, line 2)",
     "output_type": "error",
     "traceback": [
      "\u001b[0;36m  Cell \u001b[0;32mIn[26], line 2\u001b[0;36m\u001b[0m\n\u001b[0;31m    for lang in [\"ach\", ]\u001b[0m\n\u001b[0m                         ^\u001b[0m\n\u001b[0;31mSyntaxError\u001b[0m\u001b[0;31m:\u001b[0m expected ':'\n"
     ]
    }
   ],
   "source": [
    "f, ax = plt.subplots(5, 1, sharey=True, figsize=(10,40))\n",
    "for count, lang in enumerate():\n",
    "    ax[count].scatter(lang_bleus_val[lang], )\n",
    "    "
   ]
  },
  {
   "cell_type": "code",
   "execution_count": 19,
   "id": "51ffddd5",
   "metadata": {},
   "outputs": [
    {
     "data": {
      "text/plain": [
       "<Axes: >"
      ]
     },
     "execution_count": 19,
     "metadata": {},
     "output_type": "execute_result"
    }
   ],
   "source": [
    "ax[0][1]"
   ]
  },
  {
   "cell_type": "code",
   "execution_count": null,
   "id": "f49c164c",
   "metadata": {},
   "outputs": [],
   "source": []
  }
 ],
 "metadata": {
  "kernelspec": {
   "display_name": "Python 3 (ipykernel)",
   "language": "python",
   "name": "python3"
  },
  "language_info": {
   "codemirror_mode": {
    "name": "ipython",
    "version": 3
   },
   "file_extension": ".py",
   "mimetype": "text/x-python",
   "name": "python",
   "nbconvert_exporter": "python",
   "pygments_lexer": "ipython3",
   "version": "3.10.6"
  }
 },
 "nbformat": 4,
 "nbformat_minor": 5
}
