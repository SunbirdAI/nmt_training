{
  "cells": [
    {
      "cell_type": "code",
      "execution_count": 1,
      "metadata": {
        "colab": {
          "base_uri": "https://localhost:8080/"
        },
        "id": "jJcA3AW6yW6d",
        "outputId": "523c298d-04ba-4d9e-ea75-b13d1a19e485"
      },
      "outputs": [
        {
          "name": "stdout",
          "output_type": "stream",
          "text": [
            "Mounted at /content/drive\n"
          ]
        }
      ],
      "source": [
        "from google.colab import drive\n",
        "drive.mount('/content/drive')"
      ]
    },
    {
      "cell_type": "code",
      "execution_count": 2,
      "metadata": {
        "id": "A4zDnR45o1gf"
      },
      "outputs": [],
      "source": [
        "from google.colab import drive\n",
        "import gzip\n",
        "import io\n",
        "from IPython import display\n",
        "import numpy as np\n",
        "import pandas as pd\n",
        "import tqdm\n",
        "\n",
        "!pip install sacremoses\n",
        "import sacremoses\n",
        "display.clear_output()"
      ]
    },
    {
      "cell_type": "markdown",
      "metadata": {
        "id": "YQF4tEMh5_5u"
      },
      "source": [
        "# Prepare MT560 data\n",
        "\n",
        "This is a big dataset, around 35GB compressed. Only a small part of it is relevant to the languages we are interested in, though. So first we find which lines have language codes  `lug` (Luganda), `ach` (Acholi), or `nyn` (Runyankore)."
      ]
    },
    {
      "cell_type": "code",
      "execution_count": null,
      "metadata": {
        "id": "ZGy0jDQy5GWy"
      },
      "outputs": [],
      "source": [
        "## !wget https://object.pouta.csc.fi/OPUS-MT560/train.v1.lang.gz #uncomment if not downloaded\n",
        "\n",
        "languages = pd.read_csv('/content/drive/MyDrive/NMT/train.v1.lang.gz', engine='c', names=['code'])\n",
        "num_lines = len(languages)\n",
        "# print(num_lines) ## 473791770\n",
        "\n",
        "## 37 language codes that are also available in FLORES 200\n",
        "# language_codes = ['lug', 'eng', 'ibo', 'ewe', 'hau', 'kam', 'kik', 'kin', 'kon', 'lin',\n",
        "#              'lua', 'luo', 'nso', 'nya', 'run', 'sag', 'sna', 'som', 'sot', 'ssw', \n",
        "#              'swh', 'tir', 'tsn', 'tso', 'tum', 'twi', 'umb', 'wol', 'xho', 'yor',\n",
        "#               'zul', 'aka', 'amh', 'bam', 'bem', 'dik', 'fuv'\n",
        "#              ]\n",
        "\n",
        "language_codes = ['lug', 'ibo']\n",
        "\n",
        "line_languages = {}\n",
        "for code in language_codes:\n",
        "  lines = np.where(languages.code == code)[0]\n",
        "  for l in lines:\n",
        "    line_languages[l] = code\n",
        "\n",
        "display.clear_output()\n",
        "\n",
        "# output = []\n",
        "\n",
        "# for code in language_codes:\n",
        "#   N = sum(value == code for value in line_languages.values())\n",
        "#   print(f'{N} lines of language {code}')\n",
        "#   language_ouput = {\n",
        "#       \"language_code\": code,\n",
        "#       \"number_of_lines\": N\n",
        "#   }\n",
        "#   output.append(language_ouput)"
      ]
    },
    {
      "cell_type": "code",
      "execution_count": null,
      "metadata": {
        "id": "tgqPBo_oGfsB"
      },
      "outputs": [],
      "source": [
        "mtdata_df = pd.DataFrame(output)"
      ]
    },
    {
      "cell_type": "code",
      "execution_count": null,
      "metadata": {
        "colab": {
          "base_uri": "https://localhost:8080/",
          "height": 1000
        },
        "id": "mcNOS9Hg9xMC",
        "outputId": "990fffcf-2298-4b7a-9bb6-601b09753b2b"
      },
      "outputs": [
        {
          "data": {
            "text/html": [
              "\n",
              "  <div id=\"df-92a30ad2-cb1d-4fd5-ab37-8f0bbf4f6123\">\n",
              "    <div class=\"colab-df-container\">\n",
              "      <div>\n",
              "<style scoped>\n",
              "    .dataframe tbody tr th:only-of-type {\n",
              "        vertical-align: middle;\n",
              "    }\n",
              "\n",
              "    .dataframe tbody tr th {\n",
              "        vertical-align: top;\n",
              "    }\n",
              "\n",
              "    .dataframe thead th {\n",
              "        text-align: right;\n",
              "    }\n",
              "</style>\n",
              "<table border=\"1\" class=\"dataframe\">\n",
              "  <thead>\n",
              "    <tr style=\"text-align: right;\">\n",
              "      <th></th>\n",
              "      <th>language_code</th>\n",
              "      <th>number_of_lines</th>\n",
              "    </tr>\n",
              "  </thead>\n",
              "  <tbody>\n",
              "    <tr>\n",
              "      <th>0</th>\n",
              "      <td>lug</td>\n",
              "      <td>224749</td>\n",
              "    </tr>\n",
              "    <tr>\n",
              "      <th>1</th>\n",
              "      <td>ibo</td>\n",
              "      <td>415234</td>\n",
              "    </tr>\n",
              "    <tr>\n",
              "      <th>2</th>\n",
              "      <td>ewe</td>\n",
              "      <td>588735</td>\n",
              "    </tr>\n",
              "    <tr>\n",
              "      <th>3</th>\n",
              "      <td>hau</td>\n",
              "      <td>295829</td>\n",
              "    </tr>\n",
              "    <tr>\n",
              "      <th>4</th>\n",
              "      <td>kam</td>\n",
              "      <td>51054</td>\n",
              "    </tr>\n",
              "    <tr>\n",
              "      <th>5</th>\n",
              "      <td>kik</td>\n",
              "      <td>94242</td>\n",
              "    </tr>\n",
              "    <tr>\n",
              "      <th>6</th>\n",
              "      <td>kin</td>\n",
              "      <td>488086</td>\n",
              "    </tr>\n",
              "    <tr>\n",
              "      <th>7</th>\n",
              "      <td>kon</td>\n",
              "      <td>206234</td>\n",
              "    </tr>\n",
              "    <tr>\n",
              "      <th>8</th>\n",
              "      <td>lin</td>\n",
              "      <td>536198</td>\n",
              "    </tr>\n",
              "    <tr>\n",
              "      <th>9</th>\n",
              "      <td>lua</td>\n",
              "      <td>292212</td>\n",
              "    </tr>\n",
              "    <tr>\n",
              "      <th>10</th>\n",
              "      <td>luo</td>\n",
              "      <td>136625</td>\n",
              "    </tr>\n",
              "    <tr>\n",
              "      <th>11</th>\n",
              "      <td>nso</td>\n",
              "      <td>555777</td>\n",
              "    </tr>\n",
              "    <tr>\n",
              "      <th>12</th>\n",
              "      <td>nya</td>\n",
              "      <td>778089</td>\n",
              "    </tr>\n",
              "    <tr>\n",
              "      <th>13</th>\n",
              "      <td>run</td>\n",
              "      <td>364103</td>\n",
              "    </tr>\n",
              "    <tr>\n",
              "      <th>14</th>\n",
              "      <td>sag</td>\n",
              "      <td>250019</td>\n",
              "    </tr>\n",
              "    <tr>\n",
              "      <th>15</th>\n",
              "      <td>sna</td>\n",
              "      <td>763546</td>\n",
              "    </tr>\n",
              "    <tr>\n",
              "      <th>16</th>\n",
              "      <td>som</td>\n",
              "      <td>161865</td>\n",
              "    </tr>\n",
              "    <tr>\n",
              "      <th>17</th>\n",
              "      <td>ssw</td>\n",
              "      <td>116170</td>\n",
              "    </tr>\n",
              "    <tr>\n",
              "      <th>18</th>\n",
              "      <td>tir</td>\n",
              "      <td>320856</td>\n",
              "    </tr>\n",
              "    <tr>\n",
              "      <th>19</th>\n",
              "      <td>tsn</td>\n",
              "      <td>780798</td>\n",
              "    </tr>\n",
              "    <tr>\n",
              "      <th>20</th>\n",
              "      <td>tso</td>\n",
              "      <td>757853</td>\n",
              "    </tr>\n",
              "    <tr>\n",
              "      <th>21</th>\n",
              "      <td>tum</td>\n",
              "      <td>232540</td>\n",
              "    </tr>\n",
              "    <tr>\n",
              "      <th>22</th>\n",
              "      <td>twi</td>\n",
              "      <td>537268</td>\n",
              "    </tr>\n",
              "    <tr>\n",
              "      <th>23</th>\n",
              "      <td>umb</td>\n",
              "      <td>212228</td>\n",
              "    </tr>\n",
              "    <tr>\n",
              "      <th>24</th>\n",
              "      <td>wol</td>\n",
              "      <td>15230</td>\n",
              "    </tr>\n",
              "    <tr>\n",
              "      <th>25</th>\n",
              "      <td>xho</td>\n",
              "      <td>993668</td>\n",
              "    </tr>\n",
              "    <tr>\n",
              "      <th>26</th>\n",
              "      <td>yor</td>\n",
              "      <td>411461</td>\n",
              "    </tr>\n",
              "    <tr>\n",
              "      <th>27</th>\n",
              "      <td>zul</td>\n",
              "      <td>964117</td>\n",
              "    </tr>\n",
              "    <tr>\n",
              "      <th>28</th>\n",
              "      <td>amh</td>\n",
              "      <td>669145</td>\n",
              "    </tr>\n",
              "    <tr>\n",
              "      <th>29</th>\n",
              "      <td>bem</td>\n",
              "      <td>381297</td>\n",
              "    </tr>\n",
              "    <tr>\n",
              "      <th>30</th>\n",
              "      <td>dik</td>\n",
              "      <td>13319</td>\n",
              "    </tr>\n",
              "  </tbody>\n",
              "</table>\n",
              "</div>\n",
              "      <button class=\"colab-df-convert\" onclick=\"convertToInteractive('df-92a30ad2-cb1d-4fd5-ab37-8f0bbf4f6123')\"\n",
              "              title=\"Convert this dataframe to an interactive table.\"\n",
              "              style=\"display:none;\">\n",
              "        \n",
              "  <svg xmlns=\"http://www.w3.org/2000/svg\" height=\"24px\"viewBox=\"0 0 24 24\"\n",
              "       width=\"24px\">\n",
              "    <path d=\"M0 0h24v24H0V0z\" fill=\"none\"/>\n",
              "    <path d=\"M18.56 5.44l.94 2.06.94-2.06 2.06-.94-2.06-.94-.94-2.06-.94 2.06-2.06.94zm-11 1L8.5 8.5l.94-2.06 2.06-.94-2.06-.94L8.5 2.5l-.94 2.06-2.06.94zm10 10l.94 2.06.94-2.06 2.06-.94-2.06-.94-.94-2.06-.94 2.06-2.06.94z\"/><path d=\"M17.41 7.96l-1.37-1.37c-.4-.4-.92-.59-1.43-.59-.52 0-1.04.2-1.43.59L10.3 9.45l-7.72 7.72c-.78.78-.78 2.05 0 2.83L4 21.41c.39.39.9.59 1.41.59.51 0 1.02-.2 1.41-.59l7.78-7.78 2.81-2.81c.8-.78.8-2.07 0-2.86zM5.41 20L4 18.59l7.72-7.72 1.47 1.35L5.41 20z\"/>\n",
              "  </svg>\n",
              "      </button>\n",
              "      \n",
              "  <style>\n",
              "    .colab-df-container {\n",
              "      display:flex;\n",
              "      flex-wrap:wrap;\n",
              "      gap: 12px;\n",
              "    }\n",
              "\n",
              "    .colab-df-convert {\n",
              "      background-color: #E8F0FE;\n",
              "      border: none;\n",
              "      border-radius: 50%;\n",
              "      cursor: pointer;\n",
              "      display: none;\n",
              "      fill: #1967D2;\n",
              "      height: 32px;\n",
              "      padding: 0 0 0 0;\n",
              "      width: 32px;\n",
              "    }\n",
              "\n",
              "    .colab-df-convert:hover {\n",
              "      background-color: #E2EBFA;\n",
              "      box-shadow: 0px 1px 2px rgba(60, 64, 67, 0.3), 0px 1px 3px 1px rgba(60, 64, 67, 0.15);\n",
              "      fill: #174EA6;\n",
              "    }\n",
              "\n",
              "    [theme=dark] .colab-df-convert {\n",
              "      background-color: #3B4455;\n",
              "      fill: #D2E3FC;\n",
              "    }\n",
              "\n",
              "    [theme=dark] .colab-df-convert:hover {\n",
              "      background-color: #434B5C;\n",
              "      box-shadow: 0px 1px 3px 1px rgba(0, 0, 0, 0.15);\n",
              "      filter: drop-shadow(0px 1px 2px rgba(0, 0, 0, 0.3));\n",
              "      fill: #FFFFFF;\n",
              "    }\n",
              "  </style>\n",
              "\n",
              "      <script>\n",
              "        const buttonEl =\n",
              "          document.querySelector('#df-92a30ad2-cb1d-4fd5-ab37-8f0bbf4f6123 button.colab-df-convert');\n",
              "        buttonEl.style.display =\n",
              "          google.colab.kernel.accessAllowed ? 'block' : 'none';\n",
              "\n",
              "        async function convertToInteractive(key) {\n",
              "          const element = document.querySelector('#df-92a30ad2-cb1d-4fd5-ab37-8f0bbf4f6123');\n",
              "          const dataTable =\n",
              "            await google.colab.kernel.invokeFunction('convertToInteractive',\n",
              "                                                     [key], {});\n",
              "          if (!dataTable) return;\n",
              "\n",
              "          const docLinkHtml = 'Like what you see? Visit the ' +\n",
              "            '<a target=\"_blank\" href=https://colab.research.google.com/notebooks/data_table.ipynb>data table notebook</a>'\n",
              "            + ' to learn more about interactive tables.';\n",
              "          element.innerHTML = '';\n",
              "          dataTable['output_type'] = 'display_data';\n",
              "          await google.colab.output.renderOutput(dataTable, element);\n",
              "          const docLink = document.createElement('div');\n",
              "          docLink.innerHTML = docLinkHtml;\n",
              "          element.appendChild(docLink);\n",
              "        }\n",
              "      </script>\n",
              "    </div>\n",
              "  </div>\n",
              "  "
            ],
            "text/plain": [
              "   language_code  number_of_lines\n",
              "0            lug           224749\n",
              "1            ibo           415234\n",
              "2            ewe           588735\n",
              "3            hau           295829\n",
              "4            kam            51054\n",
              "5            kik            94242\n",
              "6            kin           488086\n",
              "7            kon           206234\n",
              "8            lin           536198\n",
              "9            lua           292212\n",
              "10           luo           136625\n",
              "11           nso           555777\n",
              "12           nya           778089\n",
              "13           run           364103\n",
              "14           sag           250019\n",
              "15           sna           763546\n",
              "16           som           161865\n",
              "17           ssw           116170\n",
              "18           tir           320856\n",
              "19           tsn           780798\n",
              "20           tso           757853\n",
              "21           tum           232540\n",
              "22           twi           537268\n",
              "23           umb           212228\n",
              "24           wol            15230\n",
              "25           xho           993668\n",
              "26           yor           411461\n",
              "27           zul           964117\n",
              "28           amh           669145\n",
              "29           bem           381297\n",
              "30           dik            13319"
            ]
          },
          "execution_count": 4,
          "metadata": {},
          "output_type": "execute_result"
        }
      ],
      "source": [
        "mtdata_df"
      ]
    },
    {
      "cell_type": "code",
      "execution_count": null,
      "metadata": {
        "colab": {
          "base_uri": "https://localhost:8080/"
        },
        "id": "s97rNJBiQOHI",
        "outputId": "1b89f841-7ef5-4284-bdcc-fa870ae14d54"
      },
      "outputs": [
        {
          "name": "stdout",
          "output_type": "stream",
          "text": [
            "25 \n",
            "\n",
            "['lug' 'ibo' 'ewe' 'hau' 'kin' 'kon' 'lin' 'lua' 'nso' 'nya' 'run' 'sag'\n",
            " 'sna' 'som' 'tir' 'tsn' 'tso' 'tum' 'twi' 'umb' 'xho' 'yor' 'zul' 'amh'\n",
            " 'bem']\n"
          ]
        }
      ],
      "source": [
        "mtdata_df = mtdata_df[mtdata_df[\"number_of_lines\"]>150000]\n",
        "mtdata_df = mtdata_df.reset_index(drop=True)\n",
        "print(mtdata_df[\"language_code\"].nunique(), \"\\n\")\n",
        "print(mtdata_df[\"language_code\"].unique())"
      ]
    },
    {
      "cell_type": "code",
      "execution_count": null,
      "metadata": {
        "colab": {
          "base_uri": "https://localhost:8080/",
          "height": 449
        },
        "id": "rR89yPn_Sg--",
        "outputId": "fd20b3dc-43b3-4cf6-93b4-a8ed012a3885"
      },
      "outputs": [
        {
          "data": {
            "text/plain": [
              "<AxesSubplot:xlabel='language_code', ylabel='number_of_lines'>"
            ]
          },
          "execution_count": 6,
          "metadata": {},
          "output_type": "execute_result"
        },
        {
          "data": {
            "image/png": "[encoded data removed]",
            "text/plain": [
              "<Figure size 1440x504 with 1 Axes>"
            ]
          },
          "metadata": {
            "needs_background": "light"
          },
          "output_type": "display_data"
        }
      ],
      "source": [
        "import seaborn as sns\n",
        "import matplotlib.pyplot as plt\n",
        "\n",
        "plt.figure(figsize=(20,7))\n",
        "sns.set_style(\"darkgrid\", {\"grid.color\": \".6\", \"grid.linestyle\": \":\"})\n",
        "sns.barplot(x=\"language_code\", y=\"number_of_lines\", data=mtdata_df)"
      ]
    },
    {
      "cell_type": "code",
      "execution_count": null,
      "metadata": {
        "id": "7YFUH-GaNOSw"
      },
      "outputs": [],
      "source": [
        "mtdata_df.to_csv(\"/content/drive/MyDrive/NMT/mtdata_africa/mtdata_africa_distribution(igbo).csv\", index=False)"
      ]
    },
    {
      "cell_type": "markdown",
      "metadata": {
        "id": "qIGCHMO6-VRk"
      },
      "source": [
        "If that looks OK, then remove unnecessary files and variables to make space for iterating over the full dataset."
      ]
    },
    {
      "cell_type": "code",
      "execution_count": null,
      "metadata": {
        "id": "TFzQb2jL5mN6"
      },
      "outputs": [],
      "source": [
        "# del languages\n",
        "# !rm train.v1.lang*"
      ]
    },
    {
      "cell_type": "markdown",
      "metadata": {
        "id": "5FM-mTak-yhN"
      },
      "source": [
        "Now retrieve the actual sentences. This should take ~30 minutes to download and ~50 minutes to iterate over."
      ]
    },
    {
      "cell_type": "code",
      "execution_count": null,
      "metadata": {
        "id": "SQ-EIiMgs5as"
      },
      "outputs": [],
      "source": [
        "## uncomment if not downloaded\n",
        "# !wget https://object.pouta.csc.fi/OPUS-MT560/train.v1.eng.tok.gz\n",
        "# !wget https://object.pouta.csc.fi/OPUS-MT560/train.v1.src.tok.gz\n",
        "# display.clear_output()"
      ]
    },
    {
      "cell_type": "code",
      "execution_count": null,
      "metadata": {
        "colab": {
          "base_uri": "https://localhost:8080/"
        },
        "id": "H4dVUjeZCLAV",
        "outputId": "a0b625d3-5aaa-451a-d167-81567f959ec4"
      },
      "outputs": [
        {
          "name": "stderr",
          "output_type": "stream",
          "text": [
            "100%|██████████| 473791770/473791770 [22:52<00:00, 345101.89it/s]\n"
          ]
        }
      ],
      "source": [
        "source = []\n",
        "language = []\n",
        "\n",
        "with gzip.open('/content/drive/MyDrive/NMT/train.v1.src.tok.gz','r') as f:\n",
        "  for i, line in tqdm.tqdm(enumerate(f), total=num_lines):\n",
        "    if i in line_languages:\n",
        "      source.append(line)\n",
        "      language.append(line_languages[i])"
      ]
    },
    {
      "cell_type": "code",
      "execution_count": null,
      "metadata": {
        "colab": {
          "base_uri": "https://localhost:8080/"
        },
        "id": "0JUYems9o0yA",
        "outputId": "8adfd9ed-e827-40a5-fbc1-dbd104f0dd82"
      },
      "outputs": [
        {
          "name": "stderr",
          "output_type": "stream",
          "text": [
            "100%|██████████| 473791770/473791770 [20:36<00:00, 383150.31it/s]\n"
          ]
        }
      ],
      "source": [
        "english = [] \n",
        "\n",
        "with gzip.open('/content/drive/MyDrive/NMT/train.v1.eng.tok.gz','r') as f:\n",
        "  for i, line in tqdm.tqdm(enumerate(f), total=num_lines):\n",
        "    if i in line_languages:\n",
        "      english.append(line)"
      ]
    },
    {
      "cell_type": "code",
      "execution_count": null,
      "metadata": {
        "colab": {
          "base_uri": "https://localhost:8080/"
        },
        "id": "6qhwGER9gXHs",
        "outputId": "03a75601-eaa7-472e-e228-67b404c20605"
      },
      "outputs": [
        {
          "name": "stdout",
          "output_type": "stream",
          "text": [
            "Done\n"
          ]
        }
      ],
      "source": [
        "# # open file in write mode\n",
        "# with open('/content/drive/MyDrive/NMT/source(igbo).txt', 'w') as fp:\n",
        "#     for item in source:\n",
        "#         # write each item on a new line\n",
        "#         fp.write(\"%s\\n\" % item)\n",
        "#     print('Done')"
      ]
    },
    {
      "cell_type": "code",
      "execution_count": null,
      "metadata": {
        "colab": {
          "base_uri": "https://localhost:8080/"
        },
        "id": "J5T2pLmGhBaW",
        "outputId": "1ff8da3f-5e27-4ecc-ebc9-0ebb6e7ae235"
      },
      "outputs": [
        {
          "name": "stdout",
          "output_type": "stream",
          "text": [
            "Done\n"
          ]
        }
      ],
      "source": [
        "# with open('/content/drive/MyDrive/NMT/language(igbo).txt', 'w') as fp:\n",
        "#     for item in language:\n",
        "#         # write each item on a new line\n",
        "#         fp.write(\"%s\\n\" % item)\n",
        "#     print('Done')"
      ]
    },
    {
      "cell_type": "code",
      "execution_count": null,
      "metadata": {
        "colab": {
          "base_uri": "https://localhost:8080/"
        },
        "id": "3T5j6_CVgR3Z",
        "outputId": "1ca43864-48cf-4a08-96e2-a2a7a2591328"
      },
      "outputs": [
        {
          "name": "stdout",
          "output_type": "stream",
          "text": [
            "Done\n"
          ]
        }
      ],
      "source": [
        "# with open('/content/drive/MyDrive/NMT/english(igbo).txt', 'w') as fp:\n",
        "#     for item in english:\n",
        "#         # write each item on a new line\n",
        "#         fp.write(\"%s\\n\" % item)\n",
        "#     print('Done')"
      ]
    },
    {
      "cell_type": "markdown",
      "metadata": {
        "id": "0X18EIg7iV3Z"
      },
      "source": [
        "Detokenize the text, to remove extra spaces."
      ]
    },
    {
      "cell_type": "code",
      "execution_count": null,
      "metadata": {
        "id": "-JIUQSlvsKmU"
      },
      "outputs": [],
      "source": [
        "# # empty list to read list from a file\n",
        "# source = []\n",
        "\n",
        "# # open file and read the content in a list\n",
        "# with open('/content/drive/MyDrive/NMT/source(igbo).txt', 'r') as fp:\n",
        "#     for line in fp:\n",
        "#         # remove linebreak from a current name\n",
        "#         # linebreak is the last character of each line\n",
        "#         x = line[:-1]\n",
        "\n",
        "#         # add current item to the list\n",
        "#         source.append(x)"
      ]
    },
    {
      "cell_type": "code",
      "execution_count": null,
      "metadata": {
        "id": "zq4V_CiVsfNm"
      },
      "outputs": [],
      "source": [
        "# # empty list to read list from a file\n",
        "# language = []\n",
        "\n",
        "# # open file and read the content in a list\n",
        "# with open('/content/drive/MyDrive/NMT/language(igbo).txt', 'r') as fp:\n",
        "#     for line in fp:\n",
        "#         # remove linebreak from a current name\n",
        "#         # linebreak is the last character of each line\n",
        "#         x = line[:-1]\n",
        "\n",
        "#         # add current item to the list\n",
        "#         language.append(x)"
      ]
    },
    {
      "cell_type": "code",
      "execution_count": null,
      "metadata": {
        "id": "f3deKzJHsgMo"
      },
      "outputs": [],
      "source": [
        "# # empty list to read list from a file\n",
        "# english = []\n",
        "\n",
        "# # open file and read the content in a list\n",
        "# with open('/content/drive/MyDrive/NMT/english(igbo).txt', 'r') as fp:\n",
        "#     for line in fp:\n",
        "#         # remove linebreak from a current name\n",
        "#         # linebreak is the last character of each line\n",
        "#         x = line[:-1]\n",
        "\n",
        "#         # add current item to the list\n",
        "#         english.append(x)"
      ]
    },
    {
      "cell_type": "code",
      "execution_count": null,
      "metadata": {
        "colab": {
          "base_uri": "https://localhost:8080/"
        },
        "id": "RIQFq46Uid_2",
        "outputId": "ee0b4eac-b29b-408b-c52b-b93d9f327cc0"
      },
      "outputs": [
        {
          "name": "stderr",
          "output_type": "stream",
          "text": [
            "100%|██████████| 900159/900159 [13:59<00:00, 1072.46it/s]\n"
          ]
        }
      ],
      "source": [
        "# detokenizer = sacremoses.MosesDetokenizer(lang='en')\n",
        "# source_detokenized = []\n",
        "# english_detokenized = []\n",
        "# for i in tqdm.tqdm(range(len(source)), position=0):\n",
        "#   source_detokenized.append(\n",
        "#       detokenizer.detokenize([source[i]]))\n",
        "#   english_detokenized.append(\n",
        "#       detokenizer.detokenize([english[i]]))\n",
        "\n",
        "detokenizer = sacremoses.MosesDetokenizer(lang='en')\n",
        "source_detokenized = []\n",
        "english_detokenized = []\n",
        "for i in tqdm.tqdm(range(len(source)), position=0):\n",
        "  source_detokenized.append(\n",
        "      detokenizer.detokenize([source[i].decode('utf8')]))\n",
        "  english_detokenized.append(\n",
        "      detokenizer.detokenize([english[i].decode('utf8')]))"
      ]
    },
    {
      "cell_type": "markdown",
      "metadata": {
        "id": "eMOwYUQFnAMO"
      },
      "source": [
        "Create a CSV file with the results."
      ]
    },
    {
      "cell_type": "code",
      "execution_count": null,
      "metadata": {
        "colab": {
          "base_uri": "https://localhost:8080/",
          "height": 363
        },
        "id": "cqQR8HysrmnZ",
        "outputId": "f5fb88b9-0924-421b-ae16-9d04cd1ae98f"
      },
      "outputs": [
        {
          "data": {
            "text/html": [
              "\n",
              "  <div id=\"df-05d5299f-15c7-4941-8d74-3285ae6eb14a\">\n",
              "    <div class=\"colab-df-container\">\n",
              "      <div>\n",
              "<style scoped>\n",
              "    .dataframe tbody tr th:only-of-type {\n",
              "        vertical-align: middle;\n",
              "    }\n",
              "\n",
              "    .dataframe tbody tr th {\n",
              "        vertical-align: top;\n",
              "    }\n",
              "\n",
              "    .dataframe thead th {\n",
              "        text-align: right;\n",
              "    }\n",
              "</style>\n",
              "<table border=\"1\" class=\"dataframe\">\n",
              "  <thead>\n",
              "    <tr style=\"text-align: right;\">\n",
              "      <th></th>\n",
              "      <th>source</th>\n",
              "      <th>english</th>\n",
              "      <th>source_language</th>\n",
              "    </tr>\n",
              "  </thead>\n",
              "  <tbody>\n",
              "    <tr>\n",
              "      <th>598126</th>\n",
              "      <td>Àjà Jehova ji Kraịst chụọ bụ ihe kacha egosi n...</td>\n",
              "      <td>The sacrifice of Christ is the greatest proof ...</td>\n",
              "      <td>ibo</td>\n",
              "    </tr>\n",
              "    <tr>\n",
              "      <th>476304</th>\n",
              "      <td>Yesu Kristo akooreka eki twine kukora arikugir...</td>\n",
              "      <td>Jesus Christ points to the simple step that we...</td>\n",
              "      <td>nyn</td>\n",
              "    </tr>\n",
              "    <tr>\n",
              "      <th>8604</th>\n",
              "      <td>Were Ndị Hụrụ Mmebi n'Anya Otú Jizọs Si Were Ha</td>\n",
              "      <td>Adopt Jesus' View of Those Who Love Lawlessness</td>\n",
              "      <td>ibo</td>\n",
              "    </tr>\n",
              "    <tr>\n",
              "      <th>98456</th>\n",
              "      <td>Ọdịda n'imepe X Windo sistem ngosi '% s'</td>\n",
              "      <td>Failed to open X Window System display '% s'</td>\n",
              "      <td>ibo</td>\n",
              "    </tr>\n",
              "    <tr>\n",
              "      <th>551812</th>\n",
              "      <td>N'olwekyo Baibuli egamba nti abantu ababiri ab...</td>\n",
              "      <td>Thus the Bible states that the first human pai...</td>\n",
              "      <td>lug</td>\n",
              "    </tr>\n",
              "    <tr>\n",
              "      <th>883407</th>\n",
              "      <td>Era yakitegeera okuva mu Byawandiikibwa nti om...</td>\n",
              "      <td>He also discerned from the Scriptures that a r...</td>\n",
              "      <td>lug</td>\n",
              "    </tr>\n",
              "    <tr>\n",
              "      <th>712808</th>\n",
              "      <td>Kata kamano, ere kaka inyalo wach ni Yesu nind...</td>\n",
              "      <td>But how could it be said that Jesus sleeps and...</td>\n",
              "      <td>luo</td>\n",
              "    </tr>\n",
              "    <tr>\n",
              "      <th>48784</th>\n",
              "      <td>To be nitie gima Nyasaye osetimo e wi wachno?</td>\n",
              "      <td>But has God done anything to remedy the situat...</td>\n",
              "      <td>luo</td>\n",
              "    </tr>\n",
              "    <tr>\n",
              "      <th>416578</th>\n",
              "      <td>O doro anya na ọ bụ ịmata onye ahụ nke ọma.</td>\n",
              "      <td>Well, how do you build your confidence in people?</td>\n",
              "      <td>ibo</td>\n",
              "    </tr>\n",
              "    <tr>\n",
              "      <th>421211</th>\n",
              "      <td>Obunnabbi obuli mu Zabbuli 40: 8 bwalaga nti Y...</td>\n",
              "      <td>Jesus' deep affection for the law of God was p...</td>\n",
              "      <td>lug</td>\n",
              "    </tr>\n",
              "  </tbody>\n",
              "</table>\n",
              "</div>\n",
              "      <button class=\"colab-df-convert\" onclick=\"convertToInteractive('df-05d5299f-15c7-4941-8d74-3285ae6eb14a')\"\n",
              "              title=\"Convert this dataframe to an interactive table.\"\n",
              "              style=\"display:none;\">\n",
              "        \n",
              "  <svg xmlns=\"http://www.w3.org/2000/svg\" height=\"24px\"viewBox=\"0 0 24 24\"\n",
              "       width=\"24px\">\n",
              "    <path d=\"M0 0h24v24H0V0z\" fill=\"none\"/>\n",
              "    <path d=\"M18.56 5.44l.94 2.06.94-2.06 2.06-.94-2.06-.94-.94-2.06-.94 2.06-2.06.94zm-11 1L8.5 8.5l.94-2.06 2.06-.94-2.06-.94L8.5 2.5l-.94 2.06-2.06.94zm10 10l.94 2.06.94-2.06 2.06-.94-2.06-.94-.94-2.06-.94 2.06-2.06.94z\"/><path d=\"M17.41 7.96l-1.37-1.37c-.4-.4-.92-.59-1.43-.59-.52 0-1.04.2-1.43.59L10.3 9.45l-7.72 7.72c-.78.78-.78 2.05 0 2.83L4 21.41c.39.39.9.59 1.41.59.51 0 1.02-.2 1.41-.59l7.78-7.78 2.81-2.81c.8-.78.8-2.07 0-2.86zM5.41 20L4 18.59l7.72-7.72 1.47 1.35L5.41 20z\"/>\n",
              "  </svg>\n",
              "      </button>\n",
              "      \n",
              "  <style>\n",
              "    .colab-df-container {\n",
              "      display:flex;\n",
              "      flex-wrap:wrap;\n",
              "      gap: 12px;\n",
              "    }\n",
              "\n",
              "    .colab-df-convert {\n",
              "      background-color: #E8F0FE;\n",
              "      border: none;\n",
              "      border-radius: 50%;\n",
              "      cursor: pointer;\n",
              "      display: none;\n",
              "      fill: #1967D2;\n",
              "      height: 32px;\n",
              "      padding: 0 0 0 0;\n",
              "      width: 32px;\n",
              "    }\n",
              "\n",
              "    .colab-df-convert:hover {\n",
              "      background-color: #E2EBFA;\n",
              "      box-shadow: 0px 1px 2px rgba(60, 64, 67, 0.3), 0px 1px 3px 1px rgba(60, 64, 67, 0.15);\n",
              "      fill: #174EA6;\n",
              "    }\n",
              "\n",
              "    [theme=dark] .colab-df-convert {\n",
              "      background-color: #3B4455;\n",
              "      fill: #D2E3FC;\n",
              "    }\n",
              "\n",
              "    [theme=dark] .colab-df-convert:hover {\n",
              "      background-color: #434B5C;\n",
              "      box-shadow: 0px 1px 3px 1px rgba(0, 0, 0, 0.15);\n",
              "      filter: drop-shadow(0px 1px 2px rgba(0, 0, 0, 0.3));\n",
              "      fill: #FFFFFF;\n",
              "    }\n",
              "  </style>\n",
              "\n",
              "      <script>\n",
              "        const buttonEl =\n",
              "          document.querySelector('#df-05d5299f-15c7-4941-8d74-3285ae6eb14a button.colab-df-convert');\n",
              "        buttonEl.style.display =\n",
              "          google.colab.kernel.accessAllowed ? 'block' : 'none';\n",
              "\n",
              "        async function convertToInteractive(key) {\n",
              "          const element = document.querySelector('#df-05d5299f-15c7-4941-8d74-3285ae6eb14a');\n",
              "          const dataTable =\n",
              "            await google.colab.kernel.invokeFunction('convertToInteractive',\n",
              "                                                     [key], {});\n",
              "          if (!dataTable) return;\n",
              "\n",
              "          const docLinkHtml = 'Like what you see? Visit the ' +\n",
              "            '<a target=\"_blank\" href=https://colab.research.google.com/notebooks/data_table.ipynb>data table notebook</a>'\n",
              "            + ' to learn more about interactive tables.';\n",
              "          element.innerHTML = '';\n",
              "          dataTable['output_type'] = 'display_data';\n",
              "          await google.colab.output.renderOutput(dataTable, element);\n",
              "          const docLink = document.createElement('div');\n",
              "          docLink.innerHTML = docLinkHtml;\n",
              "          element.appendChild(docLink);\n",
              "        }\n",
              "      </script>\n",
              "    </div>\n",
              "  </div>\n",
              "  "
            ],
            "text/plain": [
              "                                                   source  \\\n",
              "598126  Àjà Jehova ji Kraịst chụọ bụ ihe kacha egosi n...   \n",
              "476304  Yesu Kristo akooreka eki twine kukora arikugir...   \n",
              "8604      Were Ndị Hụrụ Mmebi n'Anya Otú Jizọs Si Were Ha   \n",
              "98456            Ọdịda n'imepe X Windo sistem ngosi '% s'   \n",
              "551812  N'olwekyo Baibuli egamba nti abantu ababiri ab...   \n",
              "883407  Era yakitegeera okuva mu Byawandiikibwa nti om...   \n",
              "712808  Kata kamano, ere kaka inyalo wach ni Yesu nind...   \n",
              "48784       To be nitie gima Nyasaye osetimo e wi wachno?   \n",
              "416578        O doro anya na ọ bụ ịmata onye ahụ nke ọma.   \n",
              "421211  Obunnabbi obuli mu Zabbuli 40: 8 bwalaga nti Y...   \n",
              "\n",
              "                                                  english source_language  \n",
              "598126  The sacrifice of Christ is the greatest proof ...             ibo  \n",
              "476304  Jesus Christ points to the simple step that we...             nyn  \n",
              "8604      Adopt Jesus' View of Those Who Love Lawlessness             ibo  \n",
              "98456        Failed to open X Window System display '% s'             ibo  \n",
              "551812  Thus the Bible states that the first human pai...             lug  \n",
              "883407  He also discerned from the Scriptures that a r...             lug  \n",
              "712808  But how could it be said that Jesus sleeps and...             luo  \n",
              "48784   But has God done anything to remedy the situat...             luo  \n",
              "416578  Well, how do you build your confidence in people?             ibo  \n",
              "421211  Jesus' deep affection for the law of God was p...             lug  "
            ]
          },
          "execution_count": 7,
          "metadata": {},
          "output_type": "execute_result"
        }
      ],
      "source": [
        "mt560 = pd.DataFrame()\n",
        "mt560['source'] = source_detokenized\n",
        "mt560['english'] = english_detokenized\n",
        "mt560['source_language'] = language\n",
        "mt560.to_csv('/content/drive/MyDrive/NMT/mt560.csv.gz', index=False, compression='gzip')\n",
        "mt560.sample(n=10)"
      ]
    },
    {
      "cell_type": "markdown",
      "metadata": {
        "id": "X7nbfD_habsR"
      },
      "source": [
        "Save the results in a Drive folder"
      ]
    },
    {
      "cell_type": "code",
      "execution_count": null,
      "metadata": {
        "id": "9AVIBRs3ruWy"
      },
      "outputs": [],
      "source": [
        "drive.mount('/content/gdrive')"
      ]
    },
    {
      "cell_type": "code",
      "execution_count": null,
      "metadata": {
        "id": "_fqrirDiZtsn"
      },
      "outputs": [],
      "source": [
        "!cp mt560.csv.gz \"/content/gdrive/Shareddrives/Sunbird AI/Projects/NLP Technology/Data/\""
      ]
    },
    {
      "cell_type": "markdown",
      "metadata": {
        "id": "CBpw8o9Rr6Bd"
      },
      "source": [
        "# Prepare FLORES101 data\n",
        "\n",
        "2,000 professionally translated sentences in the public dataset [[link]](https://github.com/facebookresearch/flores)."
      ]
    },
    {
      "cell_type": "code",
      "execution_count": null,
      "metadata": {
        "id": "u3RFZVGWpBP6"
      },
      "outputs": [],
      "source": [
        "!wget https://dl.fbaipublicfiles.com/flores101/dataset/flores101_dataset.tar.gz\n",
        "!tar xvzf flores101_dataset.tar.gz\n",
        "display.clear_output()"
      ]
    },
    {
      "cell_type": "code",
      "execution_count": null,
      "metadata": {
        "id": "GGZF6qMGzMp2"
      },
      "outputs": [],
      "source": [
        "flores = {}\n",
        "for language in ['lug', 'luo', 'eng']:\n",
        "  with open(f'flores101_dataset/dev/{language}.dev') as f:\n",
        "    dev_lines = f.readlines()\n",
        "  with open(f'flores101_dataset/devtest/{language}.devtest') as f:\n",
        "    devtest_lines = f.readlines()\n",
        "  lines = dev_lines + devtest_lines\n",
        "  lines = [l.replace('\\n', '') for l in lines]\n",
        "  flores[language] = lines\n",
        "  \n",
        "flores = pd.DataFrame(flores)"
      ]
    },
    {
      "cell_type": "code",
      "execution_count": null,
      "metadata": {
        "id": "-v7QLmml100B"
      },
      "outputs": [],
      "source": [
        "flores.sample(n=10)"
      ]
    },
    {
      "cell_type": "code",
      "execution_count": null,
      "metadata": {
        "id": "KpY75I8W2hg_"
      },
      "outputs": [],
      "source": [
        "flores.to_csv('flores101.csv.gz', index=False, compression='gzip')\n",
        "!cp flores101.csv.gz \"/content/gdrive/Shareddrives/Sunbird AI/Projects/NLP Technology/Data/\""
      ]
    },
    {
      "cell_type": "markdown",
      "metadata": {
        "id": "glFyo9cXsAIN"
      },
      "source": [
        "# Prepare Makerere/AI4D Luganda data\n",
        "\n",
        "\"An English-Luganda parallel corpus\" [[link]](https://zenodo.org/record/4764039), containing 15,000 Luganda-English sentence pairs."
      ]
    },
    {
      "cell_type": "code",
      "execution_count": null,
      "metadata": {
        "id": "pixVo553sC4Y"
      },
      "outputs": [],
      "source": [
        "!wget https://zenodo.org/record/4764039/files/Luganda.csv\n",
        "display.clear_output()"
      ]
    },
    {
      "cell_type": "markdown",
      "metadata": {
        "id": "bxKUBLNFvU8j"
      },
      "source": [
        "There are some non-unicode characters in the file, so parse it indirectly."
      ]
    },
    {
      "cell_type": "code",
      "execution_count": null,
      "metadata": {
        "id": "J7FOTPZRt3qx"
      },
      "outputs": [],
      "source": [
        "with open('Luganda.csv', encoding='utf-8', errors='replace') as f:\n",
        "  lines = f.readlines()\n",
        "\n",
        "ai4d_luganda = pd.read_csv(io.StringIO(''.join(lines)))"
      ]
    },
    {
      "cell_type": "markdown",
      "metadata": {
        "id": "QZ_IXgwgwd-e"
      },
      "source": [
        "Make the format consistent with the MT560 data."
      ]
    },
    {
      "cell_type": "code",
      "execution_count": null,
      "metadata": {
        "id": "AQCu4QD4sx3d"
      },
      "outputs": [],
      "source": [
        "ai4d_luganda = ai4d_luganda[['English', 'Luganda']]\n",
        "ai4d_luganda = ai4d_luganda.dropna()\n",
        "ai4d_luganda = ai4d_luganda.rename(\n",
        "    columns={'Luganda': 'lug', 'English': 'eng'})\n",
        "ai4d_luganda.sample(n=10)"
      ]
    },
    {
      "cell_type": "markdown",
      "metadata": {
        "id": "FK3BaU72wgrl"
      },
      "source": [
        "Upload to Drive folder."
      ]
    },
    {
      "cell_type": "code",
      "execution_count": null,
      "metadata": {
        "id": "JoG_dwnRv2pe"
      },
      "outputs": [],
      "source": [
        "ai4d_luganda.to_csv('ai4d_luganda.csv.gz', index=False, compression='gzip')\n",
        "!cp ai4d_luganda.csv.gz \"/content/gdrive/Shareddrives/Sunbird AI/Projects/NLP Technology/Data/\""
      ]
    },
    {
      "cell_type": "code",
      "execution_count": null,
      "metadata": {
        "id": "F4JBh5V5wSow"
      },
      "outputs": [],
      "source": []
    },
    {
      "cell_type": "markdown",
      "metadata": {
        "id": "fC44sbfjrsc8"
      },
      "source": [
        "# Multilingual Igbo Data"
      ]
    },
    {
      "cell_type": "code",
      "execution_count": 3,
      "metadata": {
        "colab": {
          "base_uri": "https://localhost:8080/"
        },
        "id": "yCP95jGgsC01",
        "outputId": "fea9f0c0-bb4f-4b18-c38b-cd469813903f"
      },
      "outputs": [
        {
          "name": "stdout",
          "output_type": "stream",
          "text": [
            "/content/drive/MyDrive/NMT/IGBO\n"
          ]
        }
      ],
      "source": [
        "%cd /content/drive/MyDrive/NMT/IGBO"
      ]
    },
    {
      "cell_type": "markdown",
      "metadata": {
        "id": "UqAS50bY3ygn"
      },
      "source": [
        "### Common Crawl from the CC-Net Repository ([Data](https://autonlp.ai/datasets/cc100-igbo))"
      ]
    },
    {
      "cell_type": "code",
      "execution_count": null,
      "metadata": {
        "colab": {
          "base_uri": "https://localhost:8080/"
        },
        "id": "f71UiylCrup0",
        "outputId": "a6d20da1-8263-41ab-c4fb-adb4cac19143"
      },
      "outputs": [
        {
          "name": "stdout",
          "output_type": "stream",
          "text": [
            "--2023-03-16 23:09:13--  http://data.statmt.org/cc-100/ig.txt.xz\n",
            "Resolving data.statmt.org (data.statmt.org)... 129.215.197.184\n",
            "Connecting to data.statmt.org (data.statmt.org)|129.215.197.184|:80... connected.\n",
            "HTTP request sent, awaiting response... 301 Moved Permanently\n",
            "Location: https://data.statmt.org/cc-100/ig.txt.xz [following]\n",
            "--2023-03-16 23:09:13--  https://data.statmt.org/cc-100/ig.txt.xz\n",
            "Connecting to data.statmt.org (data.statmt.org)|129.215.197.184|:443... connected.\n",
            "HTTP request sent, awaiting response... 200 OK\n",
            "Length: 6912328 (6.6M) [application/x-xz]\n",
            "Saving to: ‘ig.txt.xz’\n",
            "\n",
            "ig.txt.xz           100%[===================>]   6.59M  5.54MB/s    in 1.2s    \n",
            "\n",
            "2023-03-16 23:09:15 (5.54 MB/s) - ‘ig.txt.xz’ saved [6912328/6912328]\n",
            "\n"
          ]
        }
      ],
      "source": [
        "!wget http://data.statmt.org/cc-100/ig.txt.xz"
      ]
    },
    {
      "cell_type": "code",
      "execution_count": null,
      "metadata": {
        "id": "t1wOeby82uas"
      },
      "outputs": [],
      "source": [
        "import lzma\n",
        "\n",
        "# open file2 in writing mode\n",
        "file2 = open('common_crawl_igbo.txt','w')\n",
        "\n",
        "# read from .xz and write to file2 to save as .txt\n",
        "with lzma.open('ig.txt.xz', mode='rt', encoding='utf-8') as fid:\n",
        "    for line in fid:\n",
        "      file2.write(line)\n",
        "\n",
        "file2.close()"
      ]
    },
    {
      "cell_type": "code",
      "execution_count": null,
      "metadata": {
        "colab": {
          "base_uri": "https://localhost:8080/"
        },
        "id": "3vQuzSUU3R9Z",
        "outputId": "d46c7d5a-5ae1-41bb-97bd-a4e67121e088"
      },
      "outputs": [
        {
          "name": "stdout",
          "output_type": "stream",
          "text": [
            "Nkea wu akuko nke anyi na a kpo News Analysis, si na Voice of Biafra International (VOBI) Radio, di na Washington DC, na ala America, na a bia ra unu na abali a.\n",
            "\n"
          ]
        }
      ],
      "source": [
        "file2 = open('common_crawl_igbo.txt','r')\n",
        "\n",
        "# print the file2 content\n",
        "print(file2.readline())\n"
      ]
    },
    {
      "cell_type": "markdown",
      "metadata": {
        "id": "nvWiczsM4NSs"
      },
      "source": [
        "# IgboNLP Multilingual Data ([Data](https://github.com/IgnatiusEzeani/IGBONLP/tree/master/ig_monoling))"
      ]
    },
    {
      "cell_type": "code",
      "execution_count": null,
      "metadata": {
        "colab": {
          "base_uri": "https://localhost:8080/"
        },
        "id": "H7Ple536vcC2",
        "outputId": "4d796acb-4bb8-4a56-bf99-66feecac9b07"
      },
      "outputs": [
        {
          "name": "stdout",
          "output_type": "stream",
          "text": [
            "Archive:  /content/drive/MyDrive/NMT/IGBO/text.zip\n",
            "  inflating: bbc-igbo.txt            \n",
            "  inflating: eze_goes_to_school.txt  \n",
            "  inflating: igbo-radio.txt          \n",
            "  inflating: jw-books.txt            \n",
            "  inflating: jw-nt-igbo.txt          \n",
            "  inflating: jw-ot-igbo.txt          \n",
            "  inflating: jw-teta.txt             \n",
            "  inflating: jw-ulo_nche.txt         \n",
            "  inflating: jw-ulo_nche_naamu.txt   \n",
            "  inflating: mmadu_ka_a_na_aria.txt  \n"
          ]
        }
      ],
      "source": [
        "!unzip /content/drive/MyDrive/NMT/IGBO/text.zip"
      ]
    },
    {
      "cell_type": "markdown",
      "metadata": {
        "id": "jeZbLzO46CcL"
      },
      "source": [
        "#### Merge the monolingual Igbo data\n",
        "Since some of the Common Crawl Data contains JW texts, we leave out the JW texts in the IgboNLP data to minimise the weight of religious domain.  \n",
        "\n",
        "Data to be merged are:\n",
        "- /content/drive/MyDrive/NMT/IGBO/common_crawl_igbo.txt\n",
        "- /content/drive/MyDrive/NMT/IGBO/igbo-radio.txt\n",
        "- /content/drive/MyDrive/NMT/IGBO/eze_goes_to_school.txt\n",
        "- /content/drive/MyDrive/NMT/IGBO/mmadu_ka_a_na_aria.txt"
      ]
    },
    {
      "cell_type": "code",
      "execution_count": null,
      "metadata": {
        "id": "m1mZEhUf5HBV"
      },
      "outputs": [],
      "source": [
        "# list of data file names  Ka ọ dị\n",
        "filenames = ['common_crawl_igbo.txt', 'igbo-radio.txt', 'eze_goes_to_school.txt',\\\n",
        "             'mmadu_ka_a_na_aria.txt']\n",
        " \n",
        "# Open merged file for in write mode\n",
        "with open('merged_multilingual_igbo.txt', 'w', encoding='utf-8') as outfile:\n",
        " \n",
        "    # Iterate through list\n",
        "    for names in filenames:\n",
        " \n",
        "        # Open each file in read mode\n",
        "        with open(names) as infile:\n",
        " \n",
        "            # read the data from data files and write to merged file\n",
        "            outfile.write(infile.read())\n",
        "\n",
        "        outfile.write(\"\\n\")"
      ]
    },
    {
      "cell_type": "markdown",
      "metadata": {
        "id": "L2DrzD6LZN2R"
      },
      "source": [
        "### Data Cleaning"
      ]
    },
    {
      "cell_type": "code",
      "execution_count": null,
      "metadata": {
        "colab": {
          "base_uri": "https://localhost:8080/"
        },
        "id": "mshN8g8IbuHW",
        "outputId": "16c3df09-3f8a-4fc9-debc-dc007bc5fd0b"
      },
      "outputs": [
        {
          "name": "stdout",
          "output_type": "stream",
          "text": [
            "Copyright  2018 BBC.\n"
          ]
        }
      ],
      "source": [
        "import re\n",
        "text = \"Copyright © 2018 BBC.\"\n",
        "print(re.sub(u'(\\N{COPYRIGHT SIGN}|\\N{TRADE MARK SIGN}|\\N{REGISTERED SIGN})', \"\", text))"
      ]
    },
    {
      "cell_type": "code",
      "execution_count": null,
      "metadata": {
        "id": "S3uBr6ebFf-Q"
      },
      "outputs": [],
      "source": [
        "## make all lines unique to avoid duplicates\n",
        "## remove email address\n",
        "## remove urls and html tags -> E.g: <a href=\"http://mywebsite.\n",
        "## remove asterisks\n",
        "## remove Copyright icon\n",
        "## TODO:\n",
        "## remove hashtags and emojis\n",
        "## ## separate numbers from strings for cases like \"ha26 Septemba\", which should be \"ha 26 Septemba\". \n",
        "\n",
        "OutFile = open('merged_multilingual_igbo(clean).txt',\"w\")\n",
        "\n",
        "InFile = open('merged_multilingual_igbo.txt', \"r\")\n",
        "\n",
        "lines_present = set()\n",
        "# iterate every line present in the file\n",
        "for l in InFile:\n",
        "   # check whether the lines are unique\n",
        "   if l not in lines_present:\n",
        "      l = re.sub(r'https?://\\S+', '', l) # remove url\n",
        "      l = re.sub(r'\\S*@\\S*\\s?', '', l) # remove email\n",
        "      l = re.sub(r'\\*', '', l) # remove email\n",
        "      l = re.sub(u'(\\N{COPYRIGHT SIGN}|\\N{TRADE MARK SIGN}|\\N{REGISTERED SIGN})', \"\", l) # remove these icons\n",
        "      # writing all the unique lines in the output file\n",
        "      OutFile.write(l)\n",
        "      # adding unique lines in the lines_present\n",
        "      lines_present.add(l)\n",
        "# closing the output text files\n",
        "OutFile.close()\n",
        "InFile.close()"
      ]
    },
    {
      "cell_type": "markdown",
      "metadata": {
        "id": "qJkRnav714xE"
      },
      "source": [
        "### AfriBerta Corpus"
      ]
    },
    {
      "cell_type": "code",
      "execution_count": 7,
      "metadata": {
        "colab": {
          "base_uri": "https://localhost:8080/"
        },
        "id": "OsYdqQg5cMwg",
        "outputId": "f2f5d3a3-5561-4f6d-a4c7-3060989a07e1"
      },
      "outputs": [
        {
          "name": "stdout",
          "output_type": "stream",
          "text": [
            "{\"dataset\":\"castorini/afriberta-corpus\",\"config\":\"igbo\",\"split\":\"train\",\"features\":[{\"feature_idx\":0,\"name\":\"id\",\"type\":{\"dtype\":\"string\",\"_type\":\"Value\"}},{\"feature_idx\":1,\"name\":\"text\",\"type\":{\"dtype\":\"string\",\"_type\":\"Value\"}}],\"rows\":[{\"row_idx\":0,\"row\":{\"id\":\"0\",\"text\":\"ọ natọkwa ọchị ka otu ndị ahụ si ekwu na Kịng Jems\\n\"},\"truncated_cells\":[]},{\"row_idx\":1,\"row\":{\"id\":\"1\",\"text\":\"(b) Olee ihe ùgwù kachanụ mmadụ ọ bụla nwere?\\n\"},\"truncated_cells\":[]},{\"row_idx\":2,\"row\":{\"id\":\"2\",\"text\":\"Onyeisiala Naijiria bụ Muhammadu Buhari hafere Mahamadou ọchịchị n'ọgbakọ Ecowas nke iri ise na ise nke e mere na Abuja ụbọchị Satọdee.\\n\"},\"truncated_cells\":[]},{\"row_idx\":3,\"row\":{\"id\":\"3\",\"text\":\"Jehova ga- achọtara onwe ya nwoke obi ya nabatara ; Jehova ga- ahọpụtakwa ya ịbụ onye ndú nke ndị ya , n’ ihi na i debeghị ihe Jehova nyere gị n’ iwu .\\n\"},\"truncated_cells\":[]},{\"row_idx\":4,\"row\":{\"id\":\"4\",\"text\":\"Na nkọwa ha, ụfọdụ ndị mmadụ na-egboji ọrịa kansa,mgbe ha ga-eji gazie ụlọọgwụ ọ bụrụ na ọ gbasasịala n'akụkọ ahụ ha.\\n\"},\"truncated_cells\":[]},{\"row_idx\":5,\"row\":{\"id\":\"5\",\"text\":\"Mgbe afọ abụọ gara, a gwara m ka m bụrụ ọsụ ụzọ pụrụ iche.\\n\"},\"truncated_cells\":[]},{\"row_idx\":6,\"row\":{\"id\":\"6\",\"text\":\"Ngwá ọrụ na-echebe ma na-ebuli gị na kọmputa.\\n\"},\"truncated_cells\":[]},{\"row_idx\":7,\"row\":{\"id\":\"7\",\"text\":\"Gee akụkọ ndị a n'otu nkeji Ngwaọrụ gị akwadoghi ọkpụkpọ mgbasa ozi Aha nkeananụānụ, BBC Nkeji Akụkọ ga-amasị gị 'Anyị abọpụtala ozu mmadụ itolu ndị ọchịehi gburu' Ihe mere onyeisi ụlọomeiwu nke Bayelsa jiri gbaa arụkwaghịm Anyị anaghị amanye ndị mmadụ ka ha zụọ ụgbọala anyị - Innocent Chukwuma Isi akụkọ Ihe mere n'etiti Aguleri na Umuleri ụnyaahụelekere 6 gara aga Gee ntị, BBC Nkejiotu elekere gara aga Lee nri ọzọ i nwerike iri n'ụbọchị ụka16 Febụwarị 2020 Kọwaara m isi akụkọ Man City agwọọla Chelsea ka nkwọbi e ji tụọrọ afọ ọhụrụ aja3 Jenụwarị 2021 Arsenal apịala Chelsea ụtalị ndị nche pịara onye ohi27 Disemba 2020 Anthony Joshua na Kubrat Pulev ga-ezute onwe ha taa ịmata mbe abụọ nke bụ oke12 Disemba 2020 4:06 Vidio, Etu m si soro na ndị ọkaibe n'egwuregwu 'Basketball' - Zeke Nnaji, Duration 4,0626 Nọvemba 2020 Image gallery, Foto Diego Maradona: Nlereanya maka ndụ dike a bụ ọkaibe na bọọlụ25 Nọvemba 2020 Mma na njọ Ohaneze mere Igbo n' oge ọchịchị Nnia Nwodo11 Jenụwarị 2021 Coronavirus Second Wave: Lee atụmatụ ndị gọvanọ Ọwụwa Anyanwụ tinyere iji gbochie mfesa ọrịa nke abụọ11 Jenụwarị 2021 Ihe i kwesịrị ịma maka George Obiozor onyeisi ọhụrụ nke Ohanaeze Ndigbo8 Jenụwarị 2021 Glaucoma: Ọrịa ọjọọ nwere ike ime ka anya pịa mmadụ n'otu ntabi anya8 Jenụwarị 2021 Akachasị Gụọ 1 Ihe mere n'etiti Aguleri na Umuleri ụnyaahụ 2 Gịnị ka akpa, abụzụ na nri ndị ọzọ na-eyi ndị mmadụ izizi ndị Igbo na-eri oge gboo na-enye n'ahụ?\\n\"},\"truncated_cells\":[]},{\"row_idx\":8,\"row\":{\"id\":\"8\",\"text\":\"M ga- akpọbata ha , ha ga- ebikwa n’ ime Jeruselem ; ha ga- aghọ ndị m , mụ onwe m ga- aghọkwa Chineke ha n’ eziokwu na n’ ezi omume .\\n\"},\"truncated_cells\":[]},{\"row_idx\":9,\"row\":{\"id\":\"9\",\"text\":\"Citizen Buba, mara na a ọnọdụ ebe ị na-ekpebi ghara ọbụna na-aṅụ otu kWh n'ụlọ gị ma ọ bụ azụmahịa ogige n'oge ọnwa, (a) n'elu na-agụ efu, mgbe (b), ụgwọ ọrụ n'ihi na ọnwa, dị ka ndị a sịrị na gị na udi nke ahịa, anọgide gbara ụgwọ megide akaụntụ gị.\\n\"},\"truncated_cells\":[]},{\"row_idx\":10,\"row\":{\"id\":\"10\",\"text\":\"Ndị British Union Jack bụ ndị na-akwado ndị Rangers.\\n\"},\"truncated_cells\":[]},{\"row_idx\":11,\"row\":{\"id\":\"11\",\"text\":\"Mmadụ ga- egbutu ihe dị n’ aka nri , agụụ ga na- agụkwa ya ; mmadụ ga- eri ihe dị n’ aka ekpe , afọ agaghịkwa eju ya .\\n\"},\"truncated_cells\":[]},{\"row_idx\":12,\"row\":{\"id\":\"12\",\"text\":\"Nke a na ụdị mgbanwe-engineering nwere ike inyere gị aka ịmata na o kwere omume nsogbu na biases gị repurposed data.\\n\"},\"truncated_cells\":[]},{\"row_idx\":13,\"row\":{\"id\":\"13\",\"text\":\"Bible amụma na-egosi na nke a iro, ga-adị na retrakti ụwa agha a jọgburu onwe ya agha.\\n\"},\"truncated_cells\":[]},{\"row_idx\":14,\"row\":{\"id\":\"14\",\"text\":\"Ọ bụrụ na mmadụ abụghịzi okenye, o nwere ike imecha bụrụ okenye ọzọ ma jiri obi ụtọ na-eme ka okwukwe ụmụnna ya sie ike.\\n\"},\"truncated_cells\":[]},{\"row_idx\":15,\"row\":{\"id\":\"15\",\"text\":\"Blackjack - ọzọ oké ebre na ngwa ngwa paced kaadị egwuregwu bụ Blackjack, na Microgaming nwere obere ọnụ ụlọ dị iche iche nwere ike ịchọta nke onye ọ bụla nwere Blackberry ngwaọrụ nwere ike ngwa ngwa ma nwee ike ịnweta ma kpọọ.\\n\"},\"truncated_cells\":[]},{\"row_idx\":16,\"row\":{\"id\":\"16\",\"text\":\"Ngosi ngwaahịa na ike demonstrations na ozugbo na na lag.\\n\"},\"truncated_cells\":[]},{\"row_idx\":17,\"row\":{\"id\":\"17\",\"text\":\"Na mkparịtaụka ya na ọnyentakụkọ BBC nwere, Uwaleke kwuru na ihe Buhari na-etinye anya na ya ugbua dịka iru okporoụzọ, ọkụ na ihe dị ọzọ na kwalite akụnụba bụ ihe dị ala Naịjịrịa oke mkpa ugbua.\\n\"},\"truncated_cells\":[]},{\"row_idx\":18,\"row\":{\"id\":\"18\",\"text\":\"Nke a na ụdị nsogbu na ahụhụ abụghị mba ọzọ ka Chineke ma ọ bụ n'Okwu Ya.\\n\"},\"truncated_cells\":[]},{\"row_idx\":19,\"row\":{\"id\":\"19\",\"text\":\"Austria ụlọ ọrụ online gọọmenti bara ụba ma ị gaghị enwe ihe ọ bụla ịchọtara ịgba chaa chaa na omenala-eme ka ihe ndị a chọrọ .\\n\"},\"truncated_cells\":[]},{\"row_idx\":20,\"row\":{\"id\":\"20\",\"text\":\"Titanbet Casino nwere egwuregwu ịnwụde egwuregwu na, na ịkpali na-atụgharị ha n'ime anwụ-hard Fans!\\n\"},\"truncated_cells\":[]},{\"row_idx\":21,\"row\":{\"id\":\"21\",\"text\":\"Maka otu mgbede, Intrigue clubclub na Wynn Las Vegas bụ Ụlọ nke Hodge.\\n\"},\"truncated_cells\":[]},{\"row_idx\":22,\"row\":{\"id\":\"22\",\"text\":\"A obosara oke nke mmetụta na nzacha\\n\"},\"truncated_cells\":[]},{\"row_idx\":23,\"row\":{\"id\":\"23\",\"text\":\"N’otu mgbakọ anyị nwere n’afọ ahụ, Nwanna John E.\\n\"},\"truncated_cells\":[]},{\"row_idx\":24,\"row\":{\"id\":\"24\",\"text\":\"Ihekweazu kwukwara na e nwela atụmatụ nlebanye anya ga na-agụkọ ka ọrịa na- apụta na steeti ga ngwa ngwa ha nwetara ya, ebe ụlọọrụ nyochapụta ọrịa nke gọọmenti hiwere bụ National Reference Laboratory dị n' Abuja, a dịrịla njikere inyocha ọtụtụ ọrịa ndị metụtara ọha.\\n\"},\"truncated_cells\":[]},{\"row_idx\":25,\"row\":{\"id\":\"25\",\"text\":\"A na-echekwa ọdịnaya ahụ site na nwebisiinka na iwu ndị ọzọ gbasara ikike ọgụgụ isi.\\n\"},\"truncated_cells\":[]},{\"row_idx\":26,\"row\":{\"id\":\"26\",\"text\":\"Elu na-agba gburugburu dripper mmiri anwụrụ mmepụta akara\\n\"},\"truncated_cells\":[]},{\"row_idx\":27,\"row\":{\"id\":\"27\",\"text\":\"Ke ufọkurua abụghị ụka ke Holm bụ a mmanụ ụgbọala mgbapụta na a vending igwe.\\n\"},\"truncated_cells\":[]},{\"row_idx\":28,\"row\":{\"id\":\"28\",\"text\":\"Zuru oke maka oge ọ bụla ma ọ bụ oge pụrụ iche, ogologo ikiri ogologo nke ikpo okwu na mkpịsị aka n'olu nwere ihe na-atọ ọchị na nke pụrụ iche nke ga-ele anya ka ị na-aga ọrụ gị kwa ụbọchị.\\n\"},\"truncated_cells\":[]},{\"row_idx\":29,\"row\":{\"id\":\"29\",\"text\":\"Ndị ọzọ na-eche na ọ bara uru itinye akwụkwọ ọchụchọ na ngalaba aha iji meziwanye ọnọdụ ebe nrụọrụ weebụ.\\n\"},\"truncated_cells\":[]},{\"row_idx\":30,\"row\":{\"id\":\"30\",\"text\":\"Ngwaọrụ gị akwadoghi ọkpụkpọ mgbasa ozi Aha onyonyo, Nnamdi Kanu: Azikiwe tinyere ndi Igbo n'ọmị ha nọ na ya Marakwa na anyị gbara ọkụ na steeti niile dị n'ọwụwa-anyanwụ ụbọchị e mere emume ncheta mbido agha Biafra nke a na-emekarị n'ụbọchị 30 nke ọnwa Mee.\\n\"},\"truncated_cells\":[]},{\"row_idx\":31,\"row\":{\"id\":\"31\",\"text\":\"mma na-akpata bụ na ndị kasị ibu na-akpa ákwà ahịa nke\\n\"},\"truncated_cells\":[]},{\"row_idx\":32,\"row\":{\"id\":\"32\",\"text\":\"Ka ọ dị ugbua, ọ dị ka gọọmentị etiti ekwechirila n'atụmatụ a, ọ bụ ka oge na-aga ka a gaa mara mpụta ya.\\n\"},\"truncated_cells\":[]},{\"row_idx\":33,\"row\":{\"id\":\"33\",\"text\":\"Ọ bụ ya mere o ji mee ogige Iden ná mmalite.\\n\"},\"truncated_cells\":[]},{\"row_idx\":34,\"row\":{\"id\":\"34\",\"text\":\"The bookmobile nwere ọtụtụ nke oge na-gburugburu Holmsjön.\\n\"},\"truncated_cells\":[]},{\"row_idx\":35,\"row\":{\"id\":\"35\",\"text\":\"19lẹge Onye-Nwe-Ọha sụru Mósisu t'o mee ya.\\n\"},\"truncated_cells\":[]},{\"row_idx\":36,\"row\":{\"id\":\"36\",\"text\":\"Mgbe ahụ, Abaribe, Tochukwu Uchendu na Immauel Shalom ji akwụkwọ akụnaụba ha nara Maazị Kanu n’aka ụlọikpe.\\n\"},\"truncated_cells\":[]},{\"row_idx\":37,\"row\":{\"id\":\"37\",\"text\":\"FRM anọchi Financial Egwu Manager na bụ a asambodo awa site Global Association of Egwu Professionals.\\n\"},\"truncated_cells\":[]},{\"row_idx\":38,\"row\":{\"id\":\"38\",\"text\":\"7) Ndị ọrụ gbatagbata: Ndị ọrụ ha bụ imenyụ ọkụ ọgbụgba, ndị ọrụ ha bụ ịzọpụta ndị mmadụ n'ihe mberede nakwa ndị ọzọ na-arụ ụdịrị ọrụ ndị a, anaghị achịba ụkwụ n'ụlọ.\\n\"},\"truncated_cells\":[]},{\"row_idx\":39,\"row\":{\"id\":\"39\",\"text\":\"A kọwara uru dị ukwuu nke usoro a n'okpuru:\\n\"},\"truncated_cells\":[]},{\"row_idx\":40,\"row\":{\"id\":\"40\",\"text\":\"Atụmatụ ya ịzọ ọkwa gọvanọ so n'ihe tisara adụ na mma ya na Okorocha.\\n\"},\"truncated_cells\":[]},{\"row_idx\":41,\"row\":{\"id\":\"41\",\"text\":\"Ọ bụ otu n’ime ihe mere i kwesịrị iji na-agachi ọmụmụ ihe ndị a anya.\\n\"},\"truncated_cells\":[]},{\"row_idx\":42,\"row\":{\"id\":\"42\",\"text\":\"28:13 site n'ebe, gara nso n'ikpere mmiri, anyị rutere Rhegium.\\n\"},\"truncated_cells\":[]},{\"row_idx\":43,\"row\":{\"id\":\"43\",\"text\":\"Ị nyara bọres ka ị kpọrọ ọga oge i pere mpe?\\n\"},\"truncated_cells\":[]},{\"row_idx\":44,\"row\":{\"id\":\"44\",\"text\":\"Ma, Jizọs nụrụ ozi ahụ e ziri nwoke ahụ, nke mere na o lere ya anya ma mesie ya obi ike.\\n\"},\"truncated_cells\":[]},{\"row_idx\":45,\"row\":{\"id\":\"45\",\"text\":\"Ebonyi state: Ihe mere steeti a ji bụrụ \\\\\\\"elelịa nwa ite\\\\\\\"\\n\"},\"truncated_cells\":[]},{\"row_idx\":46,\"row\":{\"id\":\"46\",\"text\":\"O wee kọọrọ ejula otu o si wee gbuo nwaànyị ahụ.\\n\"},\"truncated_cells\":[]},{\"row_idx\":47,\"row\":{\"id\":\"47\",\"text\":\"onye yiri dimkpa bịara guzo m n’ ihu .\\n\"},\"truncated_cells\":[]},{\"row_idx\":48,\"row\":{\"id\":\"48\",\"text\":\"Mgbe o kwusịrị nke a , o gosiri ha ma aka ya ma akụkụ ya .\\n\"},\"truncated_cells\":[]},{\"row_idx\":49,\"row\":{\"id\":\"49\",\"text\":\"Site mbụ malite akara ndibiat maka a ụbọchị, anyị weere na ụfọdụ Atụmatụ na-esi na-akpa onye si nkịta ogige.\\n\"},\"truncated_cells\":[]},{\"row_idx\":50,\"row\":{\"id\":\"50\",\"text\":\"Ve Brothers, starring Josh Brolin, George Chukwu, Alden Ehrenreich, Ralph Fiennes, Jonah Hill, Scarlett Johansson , Frances McDormand, Tilda Swinton, na Channing Tatum.\\n\"},\"truncated_cells\":[]},{\"row_idx\":51,\"row\":{\"id\":\"51\",\"text\":\"Anụ ọbụla a nụrụ na- abụ abụ a na- anara ube ụtarị ozugbo ozugbo ; mana nke a akwụsịghị ha ịgụ ya .\\n\"},\"truncated_cells\":[]},{\"row_idx\":52,\"row\":{\"id\":\"52\",\"text\":\"Map ndị a na afọ ihe ndị a kọrọ akụkọ ha n’akwụkwọ a mere ga-enyere gị aka ịghọta mgbe ndị a nwere okwukwe a kọrọ akụkọ ha na Baịbụl dịrị ndụ nakwa ebe ndị ha biri.\\n\"},\"truncated_cells\":[]},{\"row_idx\":53,\"row\":{\"id\":\"53\",\"text\":\"Ị na- esi n’ ọnụ ụlọ gị dị elu agba ugwu mmiri .\\n\"},\"truncated_cells\":[]},{\"row_idx\":54,\"row\":{\"id\":\"54\",\"text\":\"• 40, 000 – Prime & Ike Konsult Ltd (nke a na-ekwu na ọ dị nde N40);\\n\"},\"truncated_cells\":[]},{\"row_idx\":55,\"row\":{\"id\":\"55\",\"text\":\"KEDU IHE MERE NDI OCHICHI ANYI ANA EKWE NKWA - Isimbido\\n\"},\"truncated_cells\":[]},{\"row_idx\":56,\"row\":{\"id\":\"56\",\"text\":\"Ihe ndị na-eme n’ụwa ugbu a na-egosi na Alaeze Chineke ga-abịa n’oge na-adịghị anya.\\n\"},\"truncated_cells\":[]},{\"row_idx\":57,\"row\":{\"id\":\"57\",\"text\":\"Anyị na-na ọbụna hụrụ mmadụ mgbasa ozi ihe ịma aka na ịchịkọta ndị mmadụ na ìhè nke na-adịbeghị anya agbụrụ mbipụta na U.\\n\"},\"truncated_cells\":[]},{\"row_idx\":58,\"row\":{\"id\":\"58\",\"text\":\"Anyị na-eme ihe dị iche iche.\\n\"},\"truncated_cells\":[]},{\"row_idx\":59,\"row\":{\"id\":\"59\",\"text\":\"'Depụta ihe niile imepụtara mgbe ị bụ gọvanọ Edo steeti' \\\"E ji aha m anapụ ndị mmadụ ego\\\" - Williams Uchemba Isi akụkọ Vidio, Africa Eye: Ndị na-ezu nwaelekere 4 gara aga Gee ntị, BBC Nkejinkeji 19 gara aga NA EME UGBU A Nke na-eme ugbua: Ndị agha Naijiría gbaala ogige ndị tọọrọ ụmụakwụkwọ na Katsina steeti okirikiri Kọwaara m isi akụkọ 4:06 Vidio, Etu m si soro na ndị ọkaibe n'egwuregwu 'Basketball' - Zeke Nnaji, Duration 4,0626 Nọvemba 2020 Image gallery, Foto Diego Maradona: Nlereanya maka ndụ dike a bụ ọkaibe na bọọlụ25 Nọvemba 2020 Image gallery, NBA Draft 2020: Lee Ụmụafo Naịjirịa ahọpụtara isonye tụọ bọọlụ nkata NBA n'afọ a19 Nọvemba 2020 Aston Villa akọọla Liverpool ka ncha nkọta4 Ọktọba 2020 Liverpool akwọọla Arsenal ka awarawa tomanto28 Septemba 2020 Penariti azọọla Man United ọzọ dịka oshimiri Brighton chọrọ iri ha26 Septemba 2020 Herman Hembe : APGA ọ na-ala ala ka ọ na-agbanye mgbọrọgwu?\\n\"},\"truncated_cells\":[]},{\"row_idx\":60,\"row\":{\"id\":\"60\",\"text\":\"Ọ bụ ya na Ịlaịja ka Pita, Jems, na Jọn hụrụ n’ọhụụ n’oge Jizọs nwoghara n’otu ugwu.\\n\"},\"truncated_cells\":[]},{\"row_idx\":61,\"row\":{\"id\":\"61\",\"text\":\"Di na nwunye amateur Gonzo Shaven Girls, porn vidiyo, mmekọahụ videos, onye na-amu amu Japanese porn Amateur di na nwunye Gonzo Shaven Girls, Nwa Na Na Na Na Na Na Na Na Na Na Na Na Na Na Memek, Girl fuck na dick ịnya Yang Long, Ọrụ nwoke nwere mmasị nwoke na Dog peliharan Naanị, enyi nwanyị Asila N'agbanyeghị bizi Kan memekku, enyi nwanyị aka ọbụna chọrọ na; bụla masseuse, Women indramayu Kobel ọtụ onwe ya ruo mgbe Crot, MS mara mma ọtụ obere hụrụ maka abịa, Tante Susan dị ka n'azụ ọtọ style\\n\"},\"truncated_cells\":[]},{\"row_idx\":62,\"row\":{\"id\":\"62\",\"text\":\"Ọ bụ ya mere m ji mee ka ihu m sie ike dị ka nkume siri ike , amakwa m na ihere agaghị eme m .\\n\"},\"truncated_cells\":[]},{\"row_idx\":63,\"row\":{\"id\":\"63\",\"text\":\"Azụ Uhie: Azụ ụgbọ mmiri bụ ihe nnọchianya nke ogologo ndụ na ọmụmụ.\\n\"},\"truncated_cells\":[]},{\"row_idx\":64,\"row\":{\"id\":\"64\",\"text\":\"Kedu ka osiri buru so so mu na ndi ibe m n’ile bu onye na ata odiri afufu a?\\n\"},\"truncated_cells\":[]},{\"row_idx\":65,\"row\":{\"id\":\"65\",\"text\":\"Ahụ́ anaghị egbu m mgbu kwa ụbọchị, ma o bido igbu m, ọ na-emesi m ike.\\n\"},\"truncated_cells\":[]},{\"row_idx\":66,\"row\":{\"id\":\"66\",\"text\":\"” (1 Ndị Kọrint 11:3) Odido Jizọs doro onwe ya n’okpuru ịchịisi Chineke bụ ezi ihe nlereanya n’ihi na anyị nile nwere onyeisi nke anyị na-aghaghị ido onwe anyị n’okpuru ya.\\n\"},\"truncated_cells\":[]},{\"row_idx\":67,\"row\":{\"id\":\"67\",\"text\":\"N’eziokwu, o nweghị ebe Baịbụl kwuru na Devid rịọrọ arịrịọ ka o nwee ike inweta ihe ọ ga-eri.\\n\"},\"truncated_cells\":[]},{\"row_idx\":68,\"row\":{\"id\":\"68\",\"text\":\"Ekpuchila njehie ha , ehichapụkwala mmehie ha n’ ihu gị ; kama , ka e mee ka ha sụọ ngọngọ n’ ihu gị .\\n\"},\"truncated_cells\":[]},{\"row_idx\":69,\"row\":{\"id\":\"69\",\"text\":\"Guzosie Ike na 1996, Shandong Zhongbaokang Medical implements Co.\\n\"},\"truncated_cells\":[]},{\"row_idx\":70,\"row\":{\"id\":\"70\",\"text\":\"Ndị Nne na Nna, Malitenụ Mgbe Nwa Unu Bụ Nwa Ọhụrụ Kụziwere Ya Okwu Chineke\\n\"},\"truncated_cells\":[]},{\"row_idx\":71,\"row\":{\"id\":\"71\",\"text\":\"Ihu Ụlọ Nche, Ọktoba 2014 _ Olee Uru Alaeze Chineke Ga-abara Gị?\\n\"},\"truncated_cells\":[]},{\"row_idx\":72,\"row\":{\"id\":\"72\",\"text\":\"Ọ bụ kemfe ma ọ bụrụ na ISP agbanwe IP ugboro ugboro.\\n\"},\"truncated_cells\":[]},{\"row_idx\":73,\"row\":{\"id\":\"73\",\"text\":\"Mgbe ọ hụrụ Jihu, ọ jụrụ ya, sị: ‘Udo ọ̀ dịkwa?\\n\"},\"truncated_cells\":[]},{\"row_idx\":74,\"row\":{\"id\":\"74\",\"text\":\"Olee ihe ndị anyị pụrụ ịmụta n’aka Eze Josaya na Nnukwu Onye Nchụàjà bụ́ Hilkaya banyere ilekọta ebe ndị anyị na-anọ efe ofufe?\\n\"},\"truncated_cells\":[]},{\"row_idx\":75,\"row\":{\"id\":\"75\",\"text\":\"Meekwa nke a : Wepụ ndị eze , onye nke ọ bụla n’ ọnọdụ ya ma were ndị gọvanọ dochie ha .\\n\"},\"truncated_cells\":[]},{\"row_idx\":76,\"row\":{\"id\":\"76\",\"text\":\"E kwesịrị inyere ụdị ndị a aka ka ha fewe Jehova.\\n\"},\"truncated_cells\":[]},{\"row_idx\":77,\"row\":{\"id\":\"77\",\"text\":\"Ala unu bụ ebe tọgbọrọ n’ efu , a gbawo obodo unu niile ọkụ ; ndị ala ọzọ eripịawo ala unu n’ anya unu , ọ tọgbọrọ n’ efu dị ka obodo ndị ala ọzọ kwaturu .\\n\"},\"truncated_cells\":[]},{\"row_idx\":78,\"row\":{\"id\":\"78\",\"text\":\"Ọgụ Izzi na Ukelle: Lee ihe onye ntaakụkọ BBC hụrụ Mgbe BBC batara n'obodo ahụ, ọ dị ka ebe a gbara ọsọ agha dịka ọgụ na-ada mere ọtụtụ ndị obodo gbaa ọsọ, ebe ndị ọrụ nchekwa juputara ebe ahụ.\\n\"},\"truncated_cells\":[]},{\"row_idx\":79,\"row\":{\"id\":\"79\",\"text\":\"Ịzụta a uwe Santa Claus elu mma, ọnụ, elu-edu na ọnụ ala afu-ọnu na wigs.\\n\"},\"truncated_cells\":[]},{\"row_idx\":80,\"row\":{\"id\":\"80\",\"text\":\"Otú papa m si akpa àgwà kpataara mama m obi mgbawa.\\n\"},\"truncated_cells\":[]},{\"row_idx\":81,\"row\":{\"id\":\"81\",\"text\":\"Akụkọ nke 14: Chineke Elee Okwukwe Ebreham Ule\\n\"},\"truncated_cells\":[]},{\"row_idx\":82,\"row\":{\"id\":\"82\",\"text\":\"iv) Ha na aga n’uzo ha a na ekwu okwu\\n\"},\"truncated_cells\":[]},{\"row_idx\":83,\"row\":{\"id\":\"83\",\"text\":\"Mystique Evolving Site na mgbe a mụrụ Mystique o nwere amụ gosiri na ọ bụ nwoke.\\n\"},\"truncated_cells\":[]},{\"row_idx\":84,\"row\":{\"id\":\"84\",\"text\":\"Ebe foto si, @BashirAhmed/Twitter Onyeisiala Buhari etinyela aka n'akwụkwọ iwu ga-eme ka ndị ọrụ Naịjirịa bido ịnata puku naira iri atọ dịka ụgwọ opekatampe.\\n\"},\"truncated_cells\":[]},{\"row_idx\":85,\"row\":{\"id\":\"85\",\"text\":\"Ị gaaraghị enwe ihe ga na-eduzi gị kwa ụbọchị.\\n\"},\"truncated_cells\":[]},{\"row_idx\":86,\"row\":{\"id\":\"86\",\"text\":\"(Aịsaịa 41:8; Jems 2:23) Chineke zoro aka n’ebe Devid nọ dị ka “nwoke kwekọrọ n’obi m” n’ihi na ọ bụ ụdị onye Jehova hụrụ n’anya.\\n\"},\"truncated_cells\":[]},{\"row_idx\":87,\"row\":{\"id\":\"87\",\"text\":\"N’ ihi na , lee , m nọnyeere unu , m ga- echekwa ihu n’ ebe unu nọ , a ga- akọ unu , ghaakwa mkpụrụ n’ elu unu .\\n\"},\"truncated_cells\":[]},{\"row_idx\":88,\"row\":{\"id\":\"88\",\"text\":\"Ebe egbu egbu gị nwere ike ime ka ọ bụrụ na ị nwere nchịkọta echiche na nhazi gị.\\n\"},\"truncated_cells\":[]},{\"row_idx\":89,\"row\":{\"id\":\"89\",\"text\":\"na-eche, ok anyị mere a elu elu na 17k, uptrend azụ.\\n\"},\"truncated_cells\":[]},{\"row_idx\":90,\"row\":{\"id\":\"90\",\"text\":\"Na mba ofesi, Mmadụ anọ fọrọ n'ime iri asatọ na otu ndị ntọ tọrọla n'obodo Bamenda dị na Kamerun, apụtala.\\n\"},\"truncated_cells\":[]},{\"row_idx\":91,\"row\":{\"id\":\"91\",\"text\":\"Ọ na-agụnye omume ezi okwu, Right\\n\"},\"truncated_cells\":[]},{\"row_idx\":92,\"row\":{\"id\":\"92\",\"text\":\"Angel egbu egbu na obi na-eme ka ndị mmadụ mara omume ọma\\n\"},\"truncated_cells\":[]},{\"row_idx\":93,\"row\":{\"id\":\"93\",\"text\":\"Mgbe anyị nụrụ ya , obi malitere ịlọ anyị mmiri , ọ dịghịkwa ume ọ bụla dị n’ ime onye ọ bụla n’ ihi unu , n’ ihi na Jehova bụ́ Chineke unu bụ Chineke n’ eluigwe nakwa n’ ụwa .\\n\"},\"truncated_cells\":[]},{\"row_idx\":94,\"row\":{\"id\":\"94\",\"text\":\"Sultan nke Sokoto kwupụtara April 18 ka ụbọchị mbụ nke Sha'aban 1439AH\\n\"},\"truncated_cells\":[]},{\"row_idx\":95,\"row\":{\"id\":\"95\",\"text\":\"Anyị ji obi anyị na-anabata ọhụrụ na ndị agadi enyi & ahịa si n'ụwa nile ịkpọtụrụ anyị maka iwuli elu nso azụmahịa mmekọrịta na anyị na-atụ anya na-agaziri na oké ibe ịga nke ọma gị.\\n\"},\"truncated_cells\":[]},{\"row_idx\":96,\"row\":{\"id\":\"96\",\"text\":\"Ndị Rom na-ekedo ụdị onye ahụ n’osisi ma ọ bụ kpọgide ya n’osisi.\\n\"},\"truncated_cells\":[]},{\"row_idx\":97,\"row\":{\"id\":\"97\",\"text\":\"Ma mgbe ha rijuru afọ , ọ gwara ndị na- eso ụzọ ya , sị : “ Tụtụkọtanụ ihe ha rifọrọ , ka ihe ọ bụla ghara ịla n’ iyi .\\n\"},\"truncated_cells\":[]},{\"row_idx\":98,\"row\":{\"id\":\"98\",\"text\":\"• Set photos ka akwụkwọ ahụaja ma ọ bụ ihe ndị ọzọ.\\n\"},\"truncated_cells\":[]},{\"row_idx\":99,\"row\":{\"id\":\"99\",\"text\":\"Ekwukwara na ọbụ ndi ụkọchukwu, Joseph Gor nakwa Felix Tyolaha ka-egburu tinyekwara mmadụ iri na asaa ndi ọzọ mgbe ha nọ n’ụka ofufe nru.\\n\"},\"truncated_cells\":[]}]}"
          ]
        }
      ],
      "source": [
        "!curl -X GET \\\n",
        "     \"https://datasets-server.huggingface.co/first-rows?dataset=castorini%2Fafriberta-corpus&config=igbo&split=train\""
      ]
    },
    {
      "cell_type": "code",
      "execution_count": 8,
      "metadata": {
        "colab": {
          "base_uri": "https://localhost:8080/"
        },
        "id": "q4ewk61g2RhS",
        "outputId": "e33984eb-e4a2-446d-9332-6756c75f23bd"
      },
      "outputs": [
        {
          "name": "stdout",
          "output_type": "stream",
          "text": [
            "--2023-03-17 13:55:19--  https://huggingface.co/datasets/castorini/afriberta-corpus/resolve/main/igbo/train.zip\n",
            "Resolving huggingface.co (huggingface.co)... 34.203.133.210, 54.156.223.8, 52.72.82.160, ...\n",
            "Connecting to huggingface.co (huggingface.co)|34.203.133.210|:443... connected.\n",
            "HTTP request sent, awaiting response... 302 Found\n",
            "Location: https://cdn-lfs.huggingface.co/datasets/castorini/afriberta-corpus/0b42e54d602fdc47bbe736151222cf4e648340abebc49e0ab8143ef181a591de?response-content-disposition=attachment%3B+filename*%3DUTF-8%27%27train.zip%3B+filename%3D%22train.zip%22%3B&response-content-type=application%2Fzip&Expires=1679320520&Policy=eyJTdGF0ZW1lbnQiOlt7IlJlc291cmNlIjoiaHR0cHM6Ly9jZG4tbGZzLmh1Z2dpbmdmYWNlLmNvL2RhdGFzZXRzL2Nhc3RvcmluaS9hZnJpYmVydGEtY29ycHVzLzBiNDJlNTRkNjAyZmRjNDdiYmU3MzYxNTEyMjJjZjRlNjQ4MzQwYWJlYmM0OWUwYWI4MTQzZWYxODFhNTkxZGU%7EcmVzcG9uc2UtY29udGVudC1kaXNwb3NpdGlvbj0qJnJlc3BvbnNlLWNvbnRlbnQtdHlwZT0qIiwiQ29uZGl0aW9uIjp7IkRhdGVMZXNzVGhhbiI6eyJBV1M6RXBvY2hUaW1lIjoxNjc5MzIwNTIwfX19XX0_&Signature=dfTpUHFRwVC2kbd4hIw9LZaZ31%7ErhJn0khSMvgbRBJw0VVWpAUCPVy3CQubVsE-k4gYvakW04HzVaui36tcVQIBfhQPi%7E7UIzic35Zx46FGx%7EKT20Vfeayqp3KMKF73-TfOe3yKNJTbiqW6jNanOjfAbmvR2UD5dD8BMGTg-dIoFfMPN2zVTABQXuBjJqr9OX60KxqfK4Qej%7EfyuME7dy6nxWtI8FxsYlFeHgQjOhiZiOU1TVOTNMaa22i72b-3jucU5lf%7EEPU8mYo-G8SUJMRQbIsRCFqh39CQ2Zy5tQrfAdcAcc%7EEJXA8sueflNM6C%7Es1h2yyF0871PXtbD1d2tg__&Key-Pair-Id=KVTP0A1DKRTAX [following]\n",
            "--2023-03-17 13:55:19--  https://cdn-lfs.huggingface.co/datasets/castorini/afriberta-corpus/0b42e54d602fdc47bbe736151222cf4e648340abebc49e0ab8143ef181a591de?response-content-disposition=attachment%3B+filename*%3DUTF-8%27%27train.zip%3B+filename%3D%22train.zip%22%3B&response-content-type=application%2Fzip&Expires=1679320520&Policy=eyJTdGF0ZW1lbnQiOlt7IlJlc291cmNlIjoiaHR0cHM6Ly9jZG4tbGZzLmh1Z2dpbmdmYWNlLmNvL2RhdGFzZXRzL2Nhc3RvcmluaS9hZnJpYmVydGEtY29ycHVzLzBiNDJlNTRkNjAyZmRjNDdiYmU3MzYxNTEyMjJjZjRlNjQ4MzQwYWJlYmM0OWUwYWI4MTQzZWYxODFhNTkxZGU%7EcmVzcG9uc2UtY29udGVudC1kaXNwb3NpdGlvbj0qJnJlc3BvbnNlLWNvbnRlbnQtdHlwZT0qIiwiQ29uZGl0aW9uIjp7IkRhdGVMZXNzVGhhbiI6eyJBV1M6RXBvY2hUaW1lIjoxNjc5MzIwNTIwfX19XX0_&Signature=dfTpUHFRwVC2kbd4hIw9LZaZ31%7ErhJn0khSMvgbRBJw0VVWpAUCPVy3CQubVsE-k4gYvakW04HzVaui36tcVQIBfhQPi%7E7UIzic35Zx46FGx%7EKT20Vfeayqp3KMKF73-TfOe3yKNJTbiqW6jNanOjfAbmvR2UD5dD8BMGTg-dIoFfMPN2zVTABQXuBjJqr9OX60KxqfK4Qej%7EfyuME7dy6nxWtI8FxsYlFeHgQjOhiZiOU1TVOTNMaa22i72b-3jucU5lf%7EEPU8mYo-G8SUJMRQbIsRCFqh39CQ2Zy5tQrfAdcAcc%7EEJXA8sueflNM6C%7Es1h2yyF0871PXtbD1d2tg__&Key-Pair-Id=KVTP0A1DKRTAX\n",
            "Resolving cdn-lfs.huggingface.co (cdn-lfs.huggingface.co)... 18.165.98.51, 18.165.98.107, 18.165.98.48, ...\n",
            "Connecting to cdn-lfs.huggingface.co (cdn-lfs.huggingface.co)|18.165.98.51|:443... connected.\n",
            "HTTP request sent, awaiting response... 200 OK\n",
            "Length: 15695174 (15M) [application/zip]\n",
            "Saving to: ‘train.zip’\n",
            "\n",
            "train.zip           100%[===================>]  14.97M  34.1MB/s    in 0.4s    \n",
            "\n",
            "2023-03-17 13:55:20 (34.1 MB/s) - ‘train.zip’ saved [15695174/15695174]\n",
            "\n"
          ]
        }
      ],
      "source": [
        "!wget https://huggingface.co/datasets/castorini/afriberta-corpus/resolve/main/igbo/train.zip"
      ]
    },
    {
      "cell_type": "code",
      "execution_count": 9,
      "metadata": {
        "colab": {
          "base_uri": "https://localhost:8080/"
        },
        "id": "DwVY00wO2nt6",
        "outputId": "8de592d4-0dc5-45cc-8e05-3bf1128a1112"
      },
      "outputs": [
        {
          "name": "stdout",
          "output_type": "stream",
          "text": [
            "Archive:  train.zip\n",
            "  inflating: train.txt               \n"
          ]
        }
      ],
      "source": [
        "!unzip train.zip"
      ]
    },
    {
      "cell_type": "code",
      "execution_count": 10,
      "metadata": {
        "colab": {
          "base_uri": "https://localhost:8080/"
        },
        "id": "0RF7e1SW2sZq",
        "outputId": "069055b4-bf13-4a3b-f737-40e8494c986e"
      },
      "outputs": [
        {
          "name": "stdout",
          "output_type": "stream",
          "text": [
            "--2023-03-17 13:56:19--  https://huggingface.co/datasets/castorini/afriberta-corpus/resolve/main/igbo/eval.zip\n",
            "Resolving huggingface.co (huggingface.co)... 52.204.1.121, 3.222.58.47, 23.20.50.97, ...\n",
            "Connecting to huggingface.co (huggingface.co)|52.204.1.121|:443... connected.\n",
            "HTTP request sent, awaiting response... 302 Found\n",
            "Location: https://cdn-lfs.huggingface.co/datasets/castorini/afriberta-corpus/4a43a72c19f136f3893ad7cde1f8588ae559358028295dec1f0267d561d503ba?response-content-disposition=attachment%3B+filename*%3DUTF-8%27%27eval.zip%3B+filename%3D%22eval.zip%22%3B&response-content-type=application%2Fzip&Expires=1679320579&Policy=eyJTdGF0ZW1lbnQiOlt7IlJlc291cmNlIjoiaHR0cHM6Ly9jZG4tbGZzLmh1Z2dpbmdmYWNlLmNvL2RhdGFzZXRzL2Nhc3RvcmluaS9hZnJpYmVydGEtY29ycHVzLzRhNDNhNzJjMTlmMTM2ZjM4OTNhZDdjZGUxZjg1ODhhZTU1OTM1ODAyODI5NWRlYzFmMDI2N2Q1NjFkNTAzYmE%7EcmVzcG9uc2UtY29udGVudC1kaXNwb3NpdGlvbj0qJnJlc3BvbnNlLWNvbnRlbnQtdHlwZT0qIiwiQ29uZGl0aW9uIjp7IkRhdGVMZXNzVGhhbiI6eyJBV1M6RXBvY2hUaW1lIjoxNjc5MzIwNTc5fX19XX0_&Signature=dm-KrEHEQ21NLa2JpLyTk4aOjIXOYoUpzAFdMSUBtqjs5P4DUyS80kQaSNe2HDC8XbrvaYGk-c4C2XeEuEPFYbV9gzwtdGD1MHU4rIADRTgdk4gfBEEiiXba3m9XaTGIHypVC8ipP7LH2X0j%7EJvTFxgqp647X8rL6kcFnlyg16LIPN0HQvhPsJbMN-PxqCZEF-UChbEEWNKZfOmyQ6IONcFFghznXaSZqmoDkrrD-fanvt9rnTvlumfJqPNrqp8uWP8oJSRiuDDYKlpJ-GneHLCCiaZYMcTaF7QcccbauTiz1Hl%7ELlG-6ro7dJ4Iq5v9AdZ7jWZStHaM-rBQJkrvig__&Key-Pair-Id=KVTP0A1DKRTAX [following]\n",
            "--2023-03-17 13:56:19--  https://cdn-lfs.huggingface.co/datasets/castorini/afriberta-corpus/4a43a72c19f136f3893ad7cde1f8588ae559358028295dec1f0267d561d503ba?response-content-disposition=attachment%3B+filename*%3DUTF-8%27%27eval.zip%3B+filename%3D%22eval.zip%22%3B&response-content-type=application%2Fzip&Expires=1679320579&Policy=eyJTdGF0ZW1lbnQiOlt7IlJlc291cmNlIjoiaHR0cHM6Ly9jZG4tbGZzLmh1Z2dpbmdmYWNlLmNvL2RhdGFzZXRzL2Nhc3RvcmluaS9hZnJpYmVydGEtY29ycHVzLzRhNDNhNzJjMTlmMTM2ZjM4OTNhZDdjZGUxZjg1ODhhZTU1OTM1ODAyODI5NWRlYzFmMDI2N2Q1NjFkNTAzYmE%7EcmVzcG9uc2UtY29udGVudC1kaXNwb3NpdGlvbj0qJnJlc3BvbnNlLWNvbnRlbnQtdHlwZT0qIiwiQ29uZGl0aW9uIjp7IkRhdGVMZXNzVGhhbiI6eyJBV1M6RXBvY2hUaW1lIjoxNjc5MzIwNTc5fX19XX0_&Signature=dm-KrEHEQ21NLa2JpLyTk4aOjIXOYoUpzAFdMSUBtqjs5P4DUyS80kQaSNe2HDC8XbrvaYGk-c4C2XeEuEPFYbV9gzwtdGD1MHU4rIADRTgdk4gfBEEiiXba3m9XaTGIHypVC8ipP7LH2X0j%7EJvTFxgqp647X8rL6kcFnlyg16LIPN0HQvhPsJbMN-PxqCZEF-UChbEEWNKZfOmyQ6IONcFFghznXaSZqmoDkrrD-fanvt9rnTvlumfJqPNrqp8uWP8oJSRiuDDYKlpJ-GneHLCCiaZYMcTaF7QcccbauTiz1Hl%7ELlG-6ro7dJ4Iq5v9AdZ7jWZStHaM-rBQJkrvig__&Key-Pair-Id=KVTP0A1DKRTAX\n",
            "Resolving cdn-lfs.huggingface.co (cdn-lfs.huggingface.co)... 18.165.98.48, 18.165.98.12, 18.165.98.107, ...\n",
            "Connecting to cdn-lfs.huggingface.co (cdn-lfs.huggingface.co)|18.165.98.48|:443... connected.\n",
            "HTTP request sent, awaiting response... 200 OK\n",
            "Length: 1398211 (1.3M) [application/zip]\n",
            "Saving to: ‘eval.zip’\n",
            "\n",
            "\reval.zip              0%[                    ]       0  --.-KB/s               \reval.zip            100%[===================>]   1.33M  --.-KB/s    in 0.03s   \n",
            "\n",
            "2023-03-17 13:56:19 (38.7 MB/s) - ‘eval.zip’ saved [1398211/1398211]\n",
            "\n",
            "Archive:  eval.zip\n",
            "  inflating: eval.txt                \n"
          ]
        }
      ],
      "source": [
        "!wget https://huggingface.co/datasets/castorini/afriberta-corpus/resolve/main/igbo/eval.zip\n",
        "!unzip eval.zip"
      ]
    },
    {
      "cell_type": "code",
      "execution_count": null,
      "metadata": {
        "id": "_17YoQ-W22MY"
      },
      "outputs": [],
      "source": []
    }
  ],
  "metadata": {
    "colab": {
      "provenance": []
    },
    "kernelspec": {
      "display_name": "Python 3",
      "name": "python3"
    },
    "language_info": {
      "name": "python"
    }
  },
  "nbformat": 4,
  "nbformat_minor": 0
}
