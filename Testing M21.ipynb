{
 "cells": [
  {
   "cell_type": "code",
   "execution_count": 43,
   "id": "11c584c8",
   "metadata": {},
   "outputs": [],
   "source": [
    "import datasets\n",
    "import pandas as pd\n",
    "import os \n",
    "import transformers\n",
    "\n",
    "from nmt_clean.preprocess import Many2ManyProcessor\n",
    "from nmt_clean.load_data import load_training_data, load_validation_data, load_testing_data\n",
    "from nmt_clean.metrics import compute_sacreBLEU as compute_metrics\n",
    "\n"
   ]
  },
  {
   "cell_type": "code",
   "execution_count": 44,
   "id": "934e3ace",
   "metadata": {},
   "outputs": [],
   "source": [
    "model_path = \"/home/ali/Documents/repos/nmt_checkpoints/mul_en_kaggle_hf_1-2/output-mul-en/checkpoint-400/\""
   ]
  },
  {
   "cell_type": "code",
   "execution_count": 45,
   "id": "fc87d68c",
   "metadata": {},
   "outputs": [],
   "source": [
    "model = transformers.AutoModelForSeq2SeqLM.from_pretrained(model_path)\n",
    "tokenizer = transformers.AutoTokenizer.from_pretrained(model_path)\n",
    "data_collator = transformers.DataCollatorForSeq2Seq(tokenizer, model = model) \n",
    "metric = datasets.load_metric('sacrebleu')"
   ]
  },
  {
   "cell_type": "code",
   "execution_count": 46,
   "id": "e703ae2d",
   "metadata": {},
   "outputs": [],
   "source": [
    "from nmt_clean.config_m2m_mul_en import config\n"
   ]
  },
  {
   "cell_type": "code",
   "execution_count": null,
   "id": "b599e736",
   "metadata": {},
   "outputs": [
    {
     "name": "stderr",
     "output_type": "stream",
     "text": [
      "100%|████████████████████████████████████████████████████████████████████████████████████████████████████████████████████████████████████████████████████████████████████████| 6/6 [00:08<00:00,  1.39s/it]\n",
      "  0%|                                                                                                                                                                              | 0/206 [00:00<?, ?it/s]/home/ali/.pyenv/versions/optimum/lib/python3.10/site-packages/transformers/tokenization_utils_base.py:3581: UserWarning: `as_target_tokenizer` is deprecated and will be removed in v5 of Transformers. You can tokenize your labels by using the argument `text_target` of the regular `__call__` method (either in the same call as your input texts if you use the same keyword arguments, or in a separate call.\n",
      "  warnings.warn(\n",
      "  9%|██████████████▍                                                                                                                                                      | 18/206 [01:47<16:52,  5.38s/it]"
     ]
    }
   ],
   "source": [
    "preprocess = Many2ManyProcessor()\n",
    "\n",
    "paired_datasets = preprocess.dataset_from_folders_m2m(config[\"training_subset_paths\"])\n",
    "tokenizer = transformers.AutoTokenizer.from_pretrained(\"/home/ali/Documents/repos/nmt_checkpoints/mul_en_kaggle_hf_1-2/output-mul-en/checkpoint-400\")\n",
    "tokens = preprocess.iterative_preprocess(paired_datasets,tokenizer )"
   ]
  },
  {
   "cell_type": "code",
   "execution_count": null,
   "id": "728d560e",
   "metadata": {},
   "outputs": [],
   "source": []
  },
  {
   "cell_type": "code",
   "execution_count": null,
   "id": "c4582ef7",
   "metadata": {},
   "outputs": [],
   "source": []
  }
 ],
 "metadata": {
  "kernelspec": {
   "display_name": "Python 3 (ipykernel)",
   "language": "python",
   "name": "python3"
  },
  "language_info": {
   "codemirror_mode": {
    "name": "ipython",
    "version": 3
   },
   "file_extension": ".py",
   "mimetype": "text/x-python",
   "name": "python",
   "nbconvert_exporter": "python",
   "pygments_lexer": "ipython3",
   "version": "3.10.6"
  }
 },
 "nbformat": 4,
 "nbformat_minor": 5
}
